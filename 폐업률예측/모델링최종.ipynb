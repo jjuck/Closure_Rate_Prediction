{
 "cells": [
  {
   "cell_type": "code",
   "execution_count": 1,
   "metadata": {},
   "outputs": [
    {
     "ename": "FileNotFoundError",
     "evalue": "[Errno 2] No such file or directory: '../data/store_data.csv'",
     "output_type": "error",
     "traceback": [
      "\u001b[1;31m---------------------------------------------------------------------------\u001b[0m",
      "\u001b[1;31mFileNotFoundError\u001b[0m                         Traceback (most recent call last)",
      "Cell \u001b[1;32mIn[1], line 5\u001b[0m\n\u001b[0;32m      1\u001b[0m \u001b[38;5;28;01mimport\u001b[39;00m \u001b[38;5;21;01mpandas\u001b[39;00m \u001b[38;5;28;01mas\u001b[39;00m \u001b[38;5;21;01mpd\u001b[39;00m\n\u001b[0;32m      3\u001b[0m \u001b[38;5;66;03m# store_data = pd.read_csv(r\"../data/점포.csv\")\u001b[39;00m\n\u001b[0;32m      4\u001b[0m \u001b[38;5;66;03m# sale_data = pd.read_csv(r\"../data/매출.csv\")\u001b[39;00m\n\u001b[1;32m----> 5\u001b[0m store_data \u001b[38;5;241m=\u001b[39m \u001b[43mpd\u001b[49m\u001b[38;5;241;43m.\u001b[39;49m\u001b[43mread_csv\u001b[49m\u001b[43m(\u001b[49m\u001b[38;5;124;43mr\u001b[39;49m\u001b[38;5;124;43m\"\u001b[39;49m\u001b[38;5;124;43m../data/store_data.csv\u001b[39;49m\u001b[38;5;124;43m\"\u001b[39;49m\u001b[43m)\u001b[49m\n\u001b[0;32m      6\u001b[0m sale_data \u001b[38;5;241m=\u001b[39m pd\u001b[38;5;241m.\u001b[39mread_csv(\u001b[38;5;124mr\u001b[39m\u001b[38;5;124m\"\u001b[39m\u001b[38;5;124m../data/sale_data.csv\u001b[39m\u001b[38;5;124m\"\u001b[39m)\n\u001b[0;32m      7\u001b[0m store_data \u001b[38;5;241m=\u001b[39m store_data\u001b[38;5;241m.\u001b[39mdrop(\u001b[38;5;124m'\u001b[39m\u001b[38;5;124mUnnamed: 0\u001b[39m\u001b[38;5;124m'\u001b[39m, axis\u001b[38;5;241m=\u001b[39m\u001b[38;5;241m1\u001b[39m)\n",
      "File \u001b[1;32mc:\\Users\\USER\\AppData\\Local\\Programs\\Python\\Python311\\Lib\\site-packages\\pandas\\io\\parsers\\readers.py:912\u001b[0m, in \u001b[0;36mread_csv\u001b[1;34m(filepath_or_buffer, sep, delimiter, header, names, index_col, usecols, dtype, engine, converters, true_values, false_values, skipinitialspace, skiprows, skipfooter, nrows, na_values, keep_default_na, na_filter, verbose, skip_blank_lines, parse_dates, infer_datetime_format, keep_date_col, date_parser, date_format, dayfirst, cache_dates, iterator, chunksize, compression, thousands, decimal, lineterminator, quotechar, quoting, doublequote, escapechar, comment, encoding, encoding_errors, dialect, on_bad_lines, delim_whitespace, low_memory, memory_map, float_precision, storage_options, dtype_backend)\u001b[0m\n\u001b[0;32m    899\u001b[0m kwds_defaults \u001b[38;5;241m=\u001b[39m _refine_defaults_read(\n\u001b[0;32m    900\u001b[0m     dialect,\n\u001b[0;32m    901\u001b[0m     delimiter,\n\u001b[1;32m   (...)\u001b[0m\n\u001b[0;32m    908\u001b[0m     dtype_backend\u001b[38;5;241m=\u001b[39mdtype_backend,\n\u001b[0;32m    909\u001b[0m )\n\u001b[0;32m    910\u001b[0m kwds\u001b[38;5;241m.\u001b[39mupdate(kwds_defaults)\n\u001b[1;32m--> 912\u001b[0m \u001b[38;5;28;01mreturn\u001b[39;00m \u001b[43m_read\u001b[49m\u001b[43m(\u001b[49m\u001b[43mfilepath_or_buffer\u001b[49m\u001b[43m,\u001b[49m\u001b[43m \u001b[49m\u001b[43mkwds\u001b[49m\u001b[43m)\u001b[49m\n",
      "File \u001b[1;32mc:\\Users\\USER\\AppData\\Local\\Programs\\Python\\Python311\\Lib\\site-packages\\pandas\\io\\parsers\\readers.py:577\u001b[0m, in \u001b[0;36m_read\u001b[1;34m(filepath_or_buffer, kwds)\u001b[0m\n\u001b[0;32m    574\u001b[0m _validate_names(kwds\u001b[38;5;241m.\u001b[39mget(\u001b[38;5;124m\"\u001b[39m\u001b[38;5;124mnames\u001b[39m\u001b[38;5;124m\"\u001b[39m, \u001b[38;5;28;01mNone\u001b[39;00m))\n\u001b[0;32m    576\u001b[0m \u001b[38;5;66;03m# Create the parser.\u001b[39;00m\n\u001b[1;32m--> 577\u001b[0m parser \u001b[38;5;241m=\u001b[39m \u001b[43mTextFileReader\u001b[49m\u001b[43m(\u001b[49m\u001b[43mfilepath_or_buffer\u001b[49m\u001b[43m,\u001b[49m\u001b[43m \u001b[49m\u001b[38;5;241;43m*\u001b[39;49m\u001b[38;5;241;43m*\u001b[39;49m\u001b[43mkwds\u001b[49m\u001b[43m)\u001b[49m\n\u001b[0;32m    579\u001b[0m \u001b[38;5;28;01mif\u001b[39;00m chunksize \u001b[38;5;129;01mor\u001b[39;00m iterator:\n\u001b[0;32m    580\u001b[0m     \u001b[38;5;28;01mreturn\u001b[39;00m parser\n",
      "File \u001b[1;32mc:\\Users\\USER\\AppData\\Local\\Programs\\Python\\Python311\\Lib\\site-packages\\pandas\\io\\parsers\\readers.py:1407\u001b[0m, in \u001b[0;36mTextFileReader.__init__\u001b[1;34m(self, f, engine, **kwds)\u001b[0m\n\u001b[0;32m   1404\u001b[0m     \u001b[38;5;28mself\u001b[39m\u001b[38;5;241m.\u001b[39moptions[\u001b[38;5;124m\"\u001b[39m\u001b[38;5;124mhas_index_names\u001b[39m\u001b[38;5;124m\"\u001b[39m] \u001b[38;5;241m=\u001b[39m kwds[\u001b[38;5;124m\"\u001b[39m\u001b[38;5;124mhas_index_names\u001b[39m\u001b[38;5;124m\"\u001b[39m]\n\u001b[0;32m   1406\u001b[0m \u001b[38;5;28mself\u001b[39m\u001b[38;5;241m.\u001b[39mhandles: IOHandles \u001b[38;5;241m|\u001b[39m \u001b[38;5;28;01mNone\u001b[39;00m \u001b[38;5;241m=\u001b[39m \u001b[38;5;28;01mNone\u001b[39;00m\n\u001b[1;32m-> 1407\u001b[0m \u001b[38;5;28mself\u001b[39m\u001b[38;5;241m.\u001b[39m_engine \u001b[38;5;241m=\u001b[39m \u001b[38;5;28;43mself\u001b[39;49m\u001b[38;5;241;43m.\u001b[39;49m\u001b[43m_make_engine\u001b[49m\u001b[43m(\u001b[49m\u001b[43mf\u001b[49m\u001b[43m,\u001b[49m\u001b[43m \u001b[49m\u001b[38;5;28;43mself\u001b[39;49m\u001b[38;5;241;43m.\u001b[39;49m\u001b[43mengine\u001b[49m\u001b[43m)\u001b[49m\n",
      "File \u001b[1;32mc:\\Users\\USER\\AppData\\Local\\Programs\\Python\\Python311\\Lib\\site-packages\\pandas\\io\\parsers\\readers.py:1661\u001b[0m, in \u001b[0;36mTextFileReader._make_engine\u001b[1;34m(self, f, engine)\u001b[0m\n\u001b[0;32m   1659\u001b[0m     \u001b[38;5;28;01mif\u001b[39;00m \u001b[38;5;124m\"\u001b[39m\u001b[38;5;124mb\u001b[39m\u001b[38;5;124m\"\u001b[39m \u001b[38;5;129;01mnot\u001b[39;00m \u001b[38;5;129;01min\u001b[39;00m mode:\n\u001b[0;32m   1660\u001b[0m         mode \u001b[38;5;241m+\u001b[39m\u001b[38;5;241m=\u001b[39m \u001b[38;5;124m\"\u001b[39m\u001b[38;5;124mb\u001b[39m\u001b[38;5;124m\"\u001b[39m\n\u001b[1;32m-> 1661\u001b[0m \u001b[38;5;28mself\u001b[39m\u001b[38;5;241m.\u001b[39mhandles \u001b[38;5;241m=\u001b[39m \u001b[43mget_handle\u001b[49m\u001b[43m(\u001b[49m\n\u001b[0;32m   1662\u001b[0m \u001b[43m    \u001b[49m\u001b[43mf\u001b[49m\u001b[43m,\u001b[49m\n\u001b[0;32m   1663\u001b[0m \u001b[43m    \u001b[49m\u001b[43mmode\u001b[49m\u001b[43m,\u001b[49m\n\u001b[0;32m   1664\u001b[0m \u001b[43m    \u001b[49m\u001b[43mencoding\u001b[49m\u001b[38;5;241;43m=\u001b[39;49m\u001b[38;5;28;43mself\u001b[39;49m\u001b[38;5;241;43m.\u001b[39;49m\u001b[43moptions\u001b[49m\u001b[38;5;241;43m.\u001b[39;49m\u001b[43mget\u001b[49m\u001b[43m(\u001b[49m\u001b[38;5;124;43m\"\u001b[39;49m\u001b[38;5;124;43mencoding\u001b[39;49m\u001b[38;5;124;43m\"\u001b[39;49m\u001b[43m,\u001b[49m\u001b[43m \u001b[49m\u001b[38;5;28;43;01mNone\u001b[39;49;00m\u001b[43m)\u001b[49m\u001b[43m,\u001b[49m\n\u001b[0;32m   1665\u001b[0m \u001b[43m    \u001b[49m\u001b[43mcompression\u001b[49m\u001b[38;5;241;43m=\u001b[39;49m\u001b[38;5;28;43mself\u001b[39;49m\u001b[38;5;241;43m.\u001b[39;49m\u001b[43moptions\u001b[49m\u001b[38;5;241;43m.\u001b[39;49m\u001b[43mget\u001b[49m\u001b[43m(\u001b[49m\u001b[38;5;124;43m\"\u001b[39;49m\u001b[38;5;124;43mcompression\u001b[39;49m\u001b[38;5;124;43m\"\u001b[39;49m\u001b[43m,\u001b[49m\u001b[43m \u001b[49m\u001b[38;5;28;43;01mNone\u001b[39;49;00m\u001b[43m)\u001b[49m\u001b[43m,\u001b[49m\n\u001b[0;32m   1666\u001b[0m \u001b[43m    \u001b[49m\u001b[43mmemory_map\u001b[49m\u001b[38;5;241;43m=\u001b[39;49m\u001b[38;5;28;43mself\u001b[39;49m\u001b[38;5;241;43m.\u001b[39;49m\u001b[43moptions\u001b[49m\u001b[38;5;241;43m.\u001b[39;49m\u001b[43mget\u001b[49m\u001b[43m(\u001b[49m\u001b[38;5;124;43m\"\u001b[39;49m\u001b[38;5;124;43mmemory_map\u001b[39;49m\u001b[38;5;124;43m\"\u001b[39;49m\u001b[43m,\u001b[49m\u001b[43m \u001b[49m\u001b[38;5;28;43;01mFalse\u001b[39;49;00m\u001b[43m)\u001b[49m\u001b[43m,\u001b[49m\n\u001b[0;32m   1667\u001b[0m \u001b[43m    \u001b[49m\u001b[43mis_text\u001b[49m\u001b[38;5;241;43m=\u001b[39;49m\u001b[43mis_text\u001b[49m\u001b[43m,\u001b[49m\n\u001b[0;32m   1668\u001b[0m \u001b[43m    \u001b[49m\u001b[43merrors\u001b[49m\u001b[38;5;241;43m=\u001b[39;49m\u001b[38;5;28;43mself\u001b[39;49m\u001b[38;5;241;43m.\u001b[39;49m\u001b[43moptions\u001b[49m\u001b[38;5;241;43m.\u001b[39;49m\u001b[43mget\u001b[49m\u001b[43m(\u001b[49m\u001b[38;5;124;43m\"\u001b[39;49m\u001b[38;5;124;43mencoding_errors\u001b[39;49m\u001b[38;5;124;43m\"\u001b[39;49m\u001b[43m,\u001b[49m\u001b[43m \u001b[49m\u001b[38;5;124;43m\"\u001b[39;49m\u001b[38;5;124;43mstrict\u001b[39;49m\u001b[38;5;124;43m\"\u001b[39;49m\u001b[43m)\u001b[49m\u001b[43m,\u001b[49m\n\u001b[0;32m   1669\u001b[0m \u001b[43m    \u001b[49m\u001b[43mstorage_options\u001b[49m\u001b[38;5;241;43m=\u001b[39;49m\u001b[38;5;28;43mself\u001b[39;49m\u001b[38;5;241;43m.\u001b[39;49m\u001b[43moptions\u001b[49m\u001b[38;5;241;43m.\u001b[39;49m\u001b[43mget\u001b[49m\u001b[43m(\u001b[49m\u001b[38;5;124;43m\"\u001b[39;49m\u001b[38;5;124;43mstorage_options\u001b[39;49m\u001b[38;5;124;43m\"\u001b[39;49m\u001b[43m,\u001b[49m\u001b[43m \u001b[49m\u001b[38;5;28;43;01mNone\u001b[39;49;00m\u001b[43m)\u001b[49m\u001b[43m,\u001b[49m\n\u001b[0;32m   1670\u001b[0m \u001b[43m\u001b[49m\u001b[43m)\u001b[49m\n\u001b[0;32m   1671\u001b[0m \u001b[38;5;28;01massert\u001b[39;00m \u001b[38;5;28mself\u001b[39m\u001b[38;5;241m.\u001b[39mhandles \u001b[38;5;129;01mis\u001b[39;00m \u001b[38;5;129;01mnot\u001b[39;00m \u001b[38;5;28;01mNone\u001b[39;00m\n\u001b[0;32m   1672\u001b[0m f \u001b[38;5;241m=\u001b[39m \u001b[38;5;28mself\u001b[39m\u001b[38;5;241m.\u001b[39mhandles\u001b[38;5;241m.\u001b[39mhandle\n",
      "File \u001b[1;32mc:\\Users\\USER\\AppData\\Local\\Programs\\Python\\Python311\\Lib\\site-packages\\pandas\\io\\common.py:859\u001b[0m, in \u001b[0;36mget_handle\u001b[1;34m(path_or_buf, mode, encoding, compression, memory_map, is_text, errors, storage_options)\u001b[0m\n\u001b[0;32m    854\u001b[0m \u001b[38;5;28;01melif\u001b[39;00m \u001b[38;5;28misinstance\u001b[39m(handle, \u001b[38;5;28mstr\u001b[39m):\n\u001b[0;32m    855\u001b[0m     \u001b[38;5;66;03m# Check whether the filename is to be opened in binary mode.\u001b[39;00m\n\u001b[0;32m    856\u001b[0m     \u001b[38;5;66;03m# Binary mode does not support 'encoding' and 'newline'.\u001b[39;00m\n\u001b[0;32m    857\u001b[0m     \u001b[38;5;28;01mif\u001b[39;00m ioargs\u001b[38;5;241m.\u001b[39mencoding \u001b[38;5;129;01mand\u001b[39;00m \u001b[38;5;124m\"\u001b[39m\u001b[38;5;124mb\u001b[39m\u001b[38;5;124m\"\u001b[39m \u001b[38;5;129;01mnot\u001b[39;00m \u001b[38;5;129;01min\u001b[39;00m ioargs\u001b[38;5;241m.\u001b[39mmode:\n\u001b[0;32m    858\u001b[0m         \u001b[38;5;66;03m# Encoding\u001b[39;00m\n\u001b[1;32m--> 859\u001b[0m         handle \u001b[38;5;241m=\u001b[39m \u001b[38;5;28;43mopen\u001b[39;49m\u001b[43m(\u001b[49m\n\u001b[0;32m    860\u001b[0m \u001b[43m            \u001b[49m\u001b[43mhandle\u001b[49m\u001b[43m,\u001b[49m\n\u001b[0;32m    861\u001b[0m \u001b[43m            \u001b[49m\u001b[43mioargs\u001b[49m\u001b[38;5;241;43m.\u001b[39;49m\u001b[43mmode\u001b[49m\u001b[43m,\u001b[49m\n\u001b[0;32m    862\u001b[0m \u001b[43m            \u001b[49m\u001b[43mencoding\u001b[49m\u001b[38;5;241;43m=\u001b[39;49m\u001b[43mioargs\u001b[49m\u001b[38;5;241;43m.\u001b[39;49m\u001b[43mencoding\u001b[49m\u001b[43m,\u001b[49m\n\u001b[0;32m    863\u001b[0m \u001b[43m            \u001b[49m\u001b[43merrors\u001b[49m\u001b[38;5;241;43m=\u001b[39;49m\u001b[43merrors\u001b[49m\u001b[43m,\u001b[49m\n\u001b[0;32m    864\u001b[0m \u001b[43m            \u001b[49m\u001b[43mnewline\u001b[49m\u001b[38;5;241;43m=\u001b[39;49m\u001b[38;5;124;43m\"\u001b[39;49m\u001b[38;5;124;43m\"\u001b[39;49m\u001b[43m,\u001b[49m\n\u001b[0;32m    865\u001b[0m \u001b[43m        \u001b[49m\u001b[43m)\u001b[49m\n\u001b[0;32m    866\u001b[0m     \u001b[38;5;28;01melse\u001b[39;00m:\n\u001b[0;32m    867\u001b[0m         \u001b[38;5;66;03m# Binary mode\u001b[39;00m\n\u001b[0;32m    868\u001b[0m         handle \u001b[38;5;241m=\u001b[39m \u001b[38;5;28mopen\u001b[39m(handle, ioargs\u001b[38;5;241m.\u001b[39mmode)\n",
      "\u001b[1;31mFileNotFoundError\u001b[0m: [Errno 2] No such file or directory: '../data/store_data.csv'"
     ]
    }
   ],
   "source": [
    "import pandas as pd\n",
    "\n",
    "# store_data = pd.read_csv(r\"../data/점포.csv\")\n",
    "# sale_data = pd.read_csv(r\"../data/매출.csv\")\n",
    "# store_data = pd.read_csv(r\"../data/store_data.csv\")\n",
    "# sale_data = pd.read_csv(r\"../data/sale_data.csv\")///\n",
    "store_data = store_data.drop('Unnamed: 0', axis=1)\n",
    "sale_data = sale_data.drop('Unnamed: 0', axis=1)\n",
    "\n",
    "store_data.columns = ['기준_년분기_코드', '상권_구분_코드', '상권_구분_코드_명', '상권_코드', '상권_코드_명', '서비스_업종_코드',\n",
    "       '서비스_업종_코드_명', '점포_수', '유사_업종_점포_수', '개업_율', '개업_점포_수', '폐업_률',\n",
    "       '폐업_점포_수', '프랜차이즈_점포_수']\n",
    "sale_data.columns = ['기준_년분기_코드', '상권_구분_코드', '상권_구분_코드_명', '상권_코드', '상권_코드_명', '서비스_업종_코드',\n",
    "       '서비스_업종_코드_명', '당월_매출_금액', '당월_매출_건수', '주중_매출_금액', '주말_매출_금액',\n",
    "       '월요일_매출_금액', '화요일_매출_금액', '수요일_매출_금액', '목요일_매출_금액', '금요일_매출_금액',\n",
    "       '토요일_매출_금액', '일요일_매출_금액', '시간대_00~06_매출_금액', '시간대_06~11_매출_금액',\n",
    "       '시간대_11~14_매출_금액', '시간대_14~17_매출_금액', '시간대_17~21_매출_금액',\n",
    "       '시간대_21~24_매출_금액', '남성_매출_금액', '여성_매출_금액', '연령대_10_매출_금액',\n",
    "       '연령대_20_매출_금액', '연령대_30_매출_금액', '연령대_40_매출_금액', '연령대_50_매출_금액',\n",
    "       '연령대_60_이상_매출_금액', '주중_매출_건수', '주말_매출_건수', '월요일_매출_건수', '화요일_매출_건수',\n",
    "       '수요일_매출_건수', '목요일_매출_건수', '금요일_매출_건수', '토요일_매출_건수', '일요일_매출_건수',\n",
    "       '시간대_건수~06_매출_건수', '시간대_건수~11_매출_건수', '시간대_건수~14_매출_건수',\n",
    "       '시간대_건수~17_매출_건수', '시간대_건수~21_매출_건수', '시간대_건수~24_매출_건수', '남성_매출_건수',\n",
    "       '여성_매출_건수', '연령대_10_매출_건수', '연령대_20_매출_건수', '연령대_30_매출_건수',\n",
    "       '연령대_40_매출_건수', '연령대_50_매출_건수', '연령대_60_이상_매출_건수']"
   ]
  },
  {
   "cell_type": "code",
   "execution_count": 3,
   "metadata": {},
   "outputs": [
    {
     "name": "stdout",
     "output_type": "stream",
     "text": [
      "<class 'pandas.core.frame.DataFrame'>\n",
      "RangeIndex: 228399 entries, 0 to 228398\n",
      "Data columns (total 14 columns):\n",
      " #   Column       Non-Null Count   Dtype  \n",
      "---  ------       --------------   -----  \n",
      " 0   기준_년분기_코드    228399 non-null  int64  \n",
      " 1   상권_구분_코드     228399 non-null  object \n",
      " 2   상권_구분_코드_명   228399 non-null  object \n",
      " 3   상권_코드        228399 non-null  int64  \n",
      " 4   상권_코드_명      228399 non-null  object \n",
      " 5   서비스_업종_코드    228399 non-null  int64  \n",
      " 6   서비스_업종_코드_명  228399 non-null  object \n",
      " 7   점포_수         228399 non-null  float64\n",
      " 8   유사_업종_점포_수   228399 non-null  float64\n",
      " 9   개업_율         228399 non-null  float64\n",
      " 10  개업_점포_수      228399 non-null  float64\n",
      " 11  폐업_률         228399 non-null  float64\n",
      " 12  폐업_점포_수      228399 non-null  float64\n",
      " 13  프랜차이즈_점포_수   228399 non-null  float64\n",
      "dtypes: float64(7), int64(3), object(4)\n",
      "memory usage: 24.4+ MB\n"
     ]
    }
   ],
   "source": [
    "store_data.info()"
   ]
  },
  {
   "cell_type": "code",
   "execution_count": 4,
   "metadata": {},
   "outputs": [
    {
     "data": {
      "text/plain": [
       "(228399, 14)"
      ]
     },
     "execution_count": 4,
     "metadata": {},
     "output_type": "execute_result"
    }
   ],
   "source": [
    "store_data['기준_년분기_코드'].unique()\n",
    "store_data.shape"
   ]
  },
  {
   "cell_type": "markdown",
   "metadata": {},
   "source": [
    "매출 데이터와 점포 데이터를 아래 조건으로 합침"
   ]
  },
  {
   "cell_type": "code",
   "execution_count": 5,
   "metadata": {},
   "outputs": [],
   "source": [
    "sale_store = pd.merge(sale_data, store_data, on=['기준_년분기_코드', '상권_구분_코드', '상권_구분_코드_명', '상권_코드', '상권_코드_명', '서비스_업종_코드', '서비스_업종_코드_명'])"
   ]
  },
  {
   "cell_type": "markdown",
   "metadata": {},
   "source": [
    "불필요하다고 생각되는 열 drop"
   ]
  },
  {
   "cell_type": "code",
   "execution_count": 6,
   "metadata": {},
   "outputs": [],
   "source": [
    "sale_store.drop([\"개업_율\", \"폐업_률\", '주중_매출_금액', '주말_매출_금액'], axis=1, inplace=True)"
   ]
  },
  {
   "cell_type": "code",
   "execution_count": 7,
   "metadata": {},
   "outputs": [
    {
     "data": {
      "text/html": [
       "<div>\n",
       "<style scoped>\n",
       "    .dataframe tbody tr th:only-of-type {\n",
       "        vertical-align: middle;\n",
       "    }\n",
       "\n",
       "    .dataframe tbody tr th {\n",
       "        vertical-align: top;\n",
       "    }\n",
       "\n",
       "    .dataframe thead th {\n",
       "        text-align: right;\n",
       "    }\n",
       "</style>\n",
       "<table border=\"1\" class=\"dataframe\">\n",
       "  <thead>\n",
       "    <tr style=\"text-align: right;\">\n",
       "      <th></th>\n",
       "      <th>기준_년분기_코드</th>\n",
       "      <th>상권_구분_코드</th>\n",
       "      <th>상권_구분_코드_명</th>\n",
       "      <th>상권_코드</th>\n",
       "      <th>상권_코드_명</th>\n",
       "      <th>서비스_업종_코드</th>\n",
       "      <th>서비스_업종_코드_명</th>\n",
       "      <th>당월_매출_금액</th>\n",
       "      <th>당월_매출_건수</th>\n",
       "      <th>월요일_매출_금액</th>\n",
       "      <th>...</th>\n",
       "      <th>연령대_20_매출_건수</th>\n",
       "      <th>연령대_30_매출_건수</th>\n",
       "      <th>연령대_40_매출_건수</th>\n",
       "      <th>연령대_50_매출_건수</th>\n",
       "      <th>연령대_60_이상_매출_건수</th>\n",
       "      <th>점포_수</th>\n",
       "      <th>유사_업종_점포_수</th>\n",
       "      <th>개업_점포_수</th>\n",
       "      <th>폐업_점포_수</th>\n",
       "      <th>프랜차이즈_점포_수</th>\n",
       "    </tr>\n",
       "  </thead>\n",
       "  <tbody>\n",
       "    <tr>\n",
       "      <th>0</th>\n",
       "      <td>20231</td>\n",
       "      <td>D</td>\n",
       "      <td>발달상권</td>\n",
       "      <td>3120050</td>\n",
       "      <td>서울숲역</td>\n",
       "      <td>100010</td>\n",
       "      <td>커피-음료</td>\n",
       "      <td>2.287190e+08</td>\n",
       "      <td>16371.0</td>\n",
       "      <td>27131928.0</td>\n",
       "      <td>...</td>\n",
       "      <td>3418.0</td>\n",
       "      <td>4305.0</td>\n",
       "      <td>2012.0</td>\n",
       "      <td>876.0</td>\n",
       "      <td>280.0</td>\n",
       "      <td>13.0</td>\n",
       "      <td>15.0</td>\n",
       "      <td>0.0</td>\n",
       "      <td>0.0</td>\n",
       "      <td>2.0</td>\n",
       "    </tr>\n",
       "    <tr>\n",
       "      <th>1</th>\n",
       "      <td>20231</td>\n",
       "      <td>D</td>\n",
       "      <td>발달상권</td>\n",
       "      <td>3120054</td>\n",
       "      <td>어린이대공원역</td>\n",
       "      <td>100007</td>\n",
       "      <td>치킨전문점</td>\n",
       "      <td>4.346601e+08</td>\n",
       "      <td>32664.0</td>\n",
       "      <td>18830029.0</td>\n",
       "      <td>...</td>\n",
       "      <td>17381.0</td>\n",
       "      <td>8389.0</td>\n",
       "      <td>2017.0</td>\n",
       "      <td>3425.0</td>\n",
       "      <td>865.0</td>\n",
       "      <td>8.0</td>\n",
       "      <td>15.0</td>\n",
       "      <td>2.0</td>\n",
       "      <td>0.0</td>\n",
       "      <td>7.0</td>\n",
       "    </tr>\n",
       "    <tr>\n",
       "      <th>2</th>\n",
       "      <td>20231</td>\n",
       "      <td>A</td>\n",
       "      <td>골목상권</td>\n",
       "      <td>3110757</td>\n",
       "      <td>양평역 2번</td>\n",
       "      <td>200033</td>\n",
       "      <td>부동산중개업</td>\n",
       "      <td>1.175862e+08</td>\n",
       "      <td>10348.0</td>\n",
       "      <td>10582756.0</td>\n",
       "      <td>...</td>\n",
       "      <td>4233.0</td>\n",
       "      <td>5174.0</td>\n",
       "      <td>705.0</td>\n",
       "      <td>0.0</td>\n",
       "      <td>0.0</td>\n",
       "      <td>10.0</td>\n",
       "      <td>10.0</td>\n",
       "      <td>0.0</td>\n",
       "      <td>0.0</td>\n",
       "      <td>0.0</td>\n",
       "    </tr>\n",
       "    <tr>\n",
       "      <th>3</th>\n",
       "      <td>20231</td>\n",
       "      <td>R</td>\n",
       "      <td>전통시장</td>\n",
       "      <td>3130024</td>\n",
       "      <td>남대문시장(자유상가)</td>\n",
       "      <td>300009</td>\n",
       "      <td>청과상</td>\n",
       "      <td>2.388089e+09</td>\n",
       "      <td>83111.0</td>\n",
       "      <td>336915823.0</td>\n",
       "      <td>...</td>\n",
       "      <td>1439.0</td>\n",
       "      <td>3624.0</td>\n",
       "      <td>8777.0</td>\n",
       "      <td>16469.0</td>\n",
       "      <td>47593.0</td>\n",
       "      <td>8.0</td>\n",
       "      <td>8.0</td>\n",
       "      <td>0.0</td>\n",
       "      <td>0.0</td>\n",
       "      <td>0.0</td>\n",
       "    </tr>\n",
       "    <tr>\n",
       "      <th>4</th>\n",
       "      <td>20231</td>\n",
       "      <td>A</td>\n",
       "      <td>골목상권</td>\n",
       "      <td>3110496</td>\n",
       "      <td>모래내우체국</td>\n",
       "      <td>300002</td>\n",
       "      <td>편의점</td>\n",
       "      <td>9.283034e+08</td>\n",
       "      <td>130919.0</td>\n",
       "      <td>121364674.0</td>\n",
       "      <td>...</td>\n",
       "      <td>26583.0</td>\n",
       "      <td>29399.0</td>\n",
       "      <td>32883.0</td>\n",
       "      <td>22500.0</td>\n",
       "      <td>15542.0</td>\n",
       "      <td>0.0</td>\n",
       "      <td>5.0</td>\n",
       "      <td>0.0</td>\n",
       "      <td>0.0</td>\n",
       "      <td>5.0</td>\n",
       "    </tr>\n",
       "  </tbody>\n",
       "</table>\n",
       "<p>5 rows × 58 columns</p>\n",
       "</div>"
      ],
      "text/plain": [
       "   기준_년분기_코드 상권_구분_코드 상권_구분_코드_명    상권_코드      상권_코드_명  서비스_업종_코드 서비스_업종_코드_명  \\\n",
       "0      20231        D       발달상권  3120050         서울숲역     100010       커피-음료   \n",
       "1      20231        D       발달상권  3120054      어린이대공원역     100007       치킨전문점   \n",
       "2      20231        A       골목상권  3110757       양평역 2번     200033      부동산중개업   \n",
       "3      20231        R       전통시장  3130024  남대문시장(자유상가)     300009         청과상   \n",
       "4      20231        A       골목상권  3110496       모래내우체국     300002         편의점   \n",
       "\n",
       "       당월_매출_금액  당월_매출_건수    월요일_매출_금액  ...  연령대_20_매출_건수  연령대_30_매출_건수  \\\n",
       "0  2.287190e+08   16371.0   27131928.0  ...        3418.0        4305.0   \n",
       "1  4.346601e+08   32664.0   18830029.0  ...       17381.0        8389.0   \n",
       "2  1.175862e+08   10348.0   10582756.0  ...        4233.0        5174.0   \n",
       "3  2.388089e+09   83111.0  336915823.0  ...        1439.0        3624.0   \n",
       "4  9.283034e+08  130919.0  121364674.0  ...       26583.0       29399.0   \n",
       "\n",
       "   연령대_40_매출_건수  연령대_50_매출_건수  연령대_60_이상_매출_건수  점포_수  유사_업종_점포_수  개업_점포_수  \\\n",
       "0        2012.0         876.0            280.0  13.0        15.0      0.0   \n",
       "1        2017.0        3425.0            865.0   8.0        15.0      2.0   \n",
       "2         705.0           0.0              0.0  10.0        10.0      0.0   \n",
       "3        8777.0       16469.0          47593.0   8.0         8.0      0.0   \n",
       "4       32883.0       22500.0          15542.0   0.0         5.0      0.0   \n",
       "\n",
       "   폐업_점포_수  프랜차이즈_점포_수  \n",
       "0      0.0         2.0  \n",
       "1      0.0         7.0  \n",
       "2      0.0         0.0  \n",
       "3      0.0         0.0  \n",
       "4      0.0         5.0  \n",
       "\n",
       "[5 rows x 58 columns]"
      ]
     },
     "execution_count": 7,
     "metadata": {},
     "output_type": "execute_result"
    }
   ],
   "source": [
    "sale_store.head()"
   ]
  },
  {
   "cell_type": "markdown",
   "metadata": {},
   "source": [
    "서비스_업종_코드의 'CS' 제거, int형으로 변환"
   ]
  },
  {
   "cell_type": "code",
   "execution_count": 8,
   "metadata": {},
   "outputs": [
    {
     "data": {
      "text/plain": [
       "<bound method Series.unique of 0        100010\n",
       "1        100007\n",
       "2        200033\n",
       "3        300009\n",
       "4        300002\n",
       "          ...  \n",
       "62851    200030\n",
       "62852    300021\n",
       "62853    100006\n",
       "62854    100010\n",
       "62855    300014\n",
       "Name: 서비스_업종_코드, Length: 62856, dtype: int64>"
      ]
     },
     "execution_count": 8,
     "metadata": {},
     "output_type": "execute_result"
    }
   ],
   "source": [
    "sale_store['서비스_업종_코드'].unique"
   ]
  },
  {
   "cell_type": "code",
   "execution_count": 9,
   "metadata": {},
   "outputs": [
    {
     "ename": "AttributeError",
     "evalue": "Can only use .str accessor with string values!",
     "output_type": "error",
     "traceback": [
      "\u001b[1;31m---------------------------------------------------------------------------\u001b[0m",
      "\u001b[1;31mAttributeError\u001b[0m                            Traceback (most recent call last)",
      "Cell \u001b[1;32mIn[9], line 1\u001b[0m\n\u001b[1;32m----> 1\u001b[0m sale_store[\u001b[38;5;124m'\u001b[39m\u001b[38;5;124m서비스_업종_코드\u001b[39m\u001b[38;5;124m'\u001b[39m] \u001b[38;5;241m=\u001b[39m \u001b[43msale_store\u001b[49m\u001b[43m[\u001b[49m\u001b[38;5;124;43m'\u001b[39;49m\u001b[38;5;124;43m서비스_업종_코드\u001b[39;49m\u001b[38;5;124;43m'\u001b[39;49m\u001b[43m]\u001b[49m\u001b[38;5;241;43m.\u001b[39;49m\u001b[43mstr\u001b[49m\u001b[38;5;241m.\u001b[39mreplace(\u001b[38;5;124m\"\u001b[39m\u001b[38;5;124mCS\u001b[39m\u001b[38;5;124m\"\u001b[39m,\u001b[38;5;124m\"\u001b[39m\u001b[38;5;124m\"\u001b[39m)\n\u001b[0;32m      2\u001b[0m sale_store[\u001b[38;5;124m'\u001b[39m\u001b[38;5;124m서비스_업종_코드\u001b[39m\u001b[38;5;124m'\u001b[39m] \u001b[38;5;241m=\u001b[39m sale_store[\u001b[38;5;124m'\u001b[39m\u001b[38;5;124m서비스_업종_코드\u001b[39m\u001b[38;5;124m'\u001b[39m]\u001b[38;5;241m.\u001b[39mastype(\u001b[38;5;124m'\u001b[39m\u001b[38;5;124mint64\u001b[39m\u001b[38;5;124m'\u001b[39m)\n",
      "File \u001b[1;32mc:\\Users\\USER\\AppData\\Local\\Programs\\Python\\Python311\\Lib\\site-packages\\pandas\\core\\generic.py:5989\u001b[0m, in \u001b[0;36mNDFrame.__getattr__\u001b[1;34m(self, name)\u001b[0m\n\u001b[0;32m   5982\u001b[0m \u001b[38;5;28;01mif\u001b[39;00m (\n\u001b[0;32m   5983\u001b[0m     name \u001b[38;5;129;01mnot\u001b[39;00m \u001b[38;5;129;01min\u001b[39;00m \u001b[38;5;28mself\u001b[39m\u001b[38;5;241m.\u001b[39m_internal_names_set\n\u001b[0;32m   5984\u001b[0m     \u001b[38;5;129;01mand\u001b[39;00m name \u001b[38;5;129;01mnot\u001b[39;00m \u001b[38;5;129;01min\u001b[39;00m \u001b[38;5;28mself\u001b[39m\u001b[38;5;241m.\u001b[39m_metadata\n\u001b[0;32m   5985\u001b[0m     \u001b[38;5;129;01mand\u001b[39;00m name \u001b[38;5;129;01mnot\u001b[39;00m \u001b[38;5;129;01min\u001b[39;00m \u001b[38;5;28mself\u001b[39m\u001b[38;5;241m.\u001b[39m_accessors\n\u001b[0;32m   5986\u001b[0m     \u001b[38;5;129;01mand\u001b[39;00m \u001b[38;5;28mself\u001b[39m\u001b[38;5;241m.\u001b[39m_info_axis\u001b[38;5;241m.\u001b[39m_can_hold_identifiers_and_holds_name(name)\n\u001b[0;32m   5987\u001b[0m ):\n\u001b[0;32m   5988\u001b[0m     \u001b[38;5;28;01mreturn\u001b[39;00m \u001b[38;5;28mself\u001b[39m[name]\n\u001b[1;32m-> 5989\u001b[0m \u001b[38;5;28;01mreturn\u001b[39;00m \u001b[38;5;28;43mobject\u001b[39;49m\u001b[38;5;241;43m.\u001b[39;49m\u001b[38;5;21;43m__getattribute__\u001b[39;49m\u001b[43m(\u001b[49m\u001b[38;5;28;43mself\u001b[39;49m\u001b[43m,\u001b[49m\u001b[43m \u001b[49m\u001b[43mname\u001b[49m\u001b[43m)\u001b[49m\n",
      "File \u001b[1;32mc:\\Users\\USER\\AppData\\Local\\Programs\\Python\\Python311\\Lib\\site-packages\\pandas\\core\\accessor.py:224\u001b[0m, in \u001b[0;36mCachedAccessor.__get__\u001b[1;34m(self, obj, cls)\u001b[0m\n\u001b[0;32m    221\u001b[0m \u001b[38;5;28;01mif\u001b[39;00m obj \u001b[38;5;129;01mis\u001b[39;00m \u001b[38;5;28;01mNone\u001b[39;00m:\n\u001b[0;32m    222\u001b[0m     \u001b[38;5;66;03m# we're accessing the attribute of the class, i.e., Dataset.geo\u001b[39;00m\n\u001b[0;32m    223\u001b[0m     \u001b[38;5;28;01mreturn\u001b[39;00m \u001b[38;5;28mself\u001b[39m\u001b[38;5;241m.\u001b[39m_accessor\n\u001b[1;32m--> 224\u001b[0m accessor_obj \u001b[38;5;241m=\u001b[39m \u001b[38;5;28;43mself\u001b[39;49m\u001b[38;5;241;43m.\u001b[39;49m\u001b[43m_accessor\u001b[49m\u001b[43m(\u001b[49m\u001b[43mobj\u001b[49m\u001b[43m)\u001b[49m\n\u001b[0;32m    225\u001b[0m \u001b[38;5;66;03m# Replace the property with the accessor object. Inspired by:\u001b[39;00m\n\u001b[0;32m    226\u001b[0m \u001b[38;5;66;03m# https://www.pydanny.com/cached-property.html\u001b[39;00m\n\u001b[0;32m    227\u001b[0m \u001b[38;5;66;03m# We need to use object.__setattr__ because we overwrite __setattr__ on\u001b[39;00m\n\u001b[0;32m    228\u001b[0m \u001b[38;5;66;03m# NDFrame\u001b[39;00m\n\u001b[0;32m    229\u001b[0m \u001b[38;5;28mobject\u001b[39m\u001b[38;5;241m.\u001b[39m\u001b[38;5;21m__setattr__\u001b[39m(obj, \u001b[38;5;28mself\u001b[39m\u001b[38;5;241m.\u001b[39m_name, accessor_obj)\n",
      "File \u001b[1;32mc:\\Users\\USER\\AppData\\Local\\Programs\\Python\\Python311\\Lib\\site-packages\\pandas\\core\\strings\\accessor.py:181\u001b[0m, in \u001b[0;36mStringMethods.__init__\u001b[1;34m(self, data)\u001b[0m\n\u001b[0;32m    178\u001b[0m \u001b[38;5;28;01mdef\u001b[39;00m \u001b[38;5;21m__init__\u001b[39m(\u001b[38;5;28mself\u001b[39m, data) \u001b[38;5;241m-\u001b[39m\u001b[38;5;241m>\u001b[39m \u001b[38;5;28;01mNone\u001b[39;00m:\n\u001b[0;32m    179\u001b[0m     \u001b[38;5;28;01mfrom\u001b[39;00m \u001b[38;5;21;01mpandas\u001b[39;00m\u001b[38;5;21;01m.\u001b[39;00m\u001b[38;5;21;01mcore\u001b[39;00m\u001b[38;5;21;01m.\u001b[39;00m\u001b[38;5;21;01marrays\u001b[39;00m\u001b[38;5;21;01m.\u001b[39;00m\u001b[38;5;21;01mstring_\u001b[39;00m \u001b[38;5;28;01mimport\u001b[39;00m StringDtype\n\u001b[1;32m--> 181\u001b[0m     \u001b[38;5;28mself\u001b[39m\u001b[38;5;241m.\u001b[39m_inferred_dtype \u001b[38;5;241m=\u001b[39m \u001b[38;5;28;43mself\u001b[39;49m\u001b[38;5;241;43m.\u001b[39;49m\u001b[43m_validate\u001b[49m\u001b[43m(\u001b[49m\u001b[43mdata\u001b[49m\u001b[43m)\u001b[49m\n\u001b[0;32m    182\u001b[0m     \u001b[38;5;28mself\u001b[39m\u001b[38;5;241m.\u001b[39m_is_categorical \u001b[38;5;241m=\u001b[39m is_categorical_dtype(data\u001b[38;5;241m.\u001b[39mdtype)\n\u001b[0;32m    183\u001b[0m     \u001b[38;5;28mself\u001b[39m\u001b[38;5;241m.\u001b[39m_is_string \u001b[38;5;241m=\u001b[39m \u001b[38;5;28misinstance\u001b[39m(data\u001b[38;5;241m.\u001b[39mdtype, StringDtype)\n",
      "File \u001b[1;32mc:\\Users\\USER\\AppData\\Local\\Programs\\Python\\Python311\\Lib\\site-packages\\pandas\\core\\strings\\accessor.py:235\u001b[0m, in \u001b[0;36mStringMethods._validate\u001b[1;34m(data)\u001b[0m\n\u001b[0;32m    232\u001b[0m inferred_dtype \u001b[38;5;241m=\u001b[39m lib\u001b[38;5;241m.\u001b[39minfer_dtype(values, skipna\u001b[38;5;241m=\u001b[39m\u001b[38;5;28;01mTrue\u001b[39;00m)\n\u001b[0;32m    234\u001b[0m \u001b[38;5;28;01mif\u001b[39;00m inferred_dtype \u001b[38;5;129;01mnot\u001b[39;00m \u001b[38;5;129;01min\u001b[39;00m allowed_types:\n\u001b[1;32m--> 235\u001b[0m     \u001b[38;5;28;01mraise\u001b[39;00m \u001b[38;5;167;01mAttributeError\u001b[39;00m(\u001b[38;5;124m\"\u001b[39m\u001b[38;5;124mCan only use .str accessor with string values!\u001b[39m\u001b[38;5;124m\"\u001b[39m)\n\u001b[0;32m    236\u001b[0m \u001b[38;5;28;01mreturn\u001b[39;00m inferred_dtype\n",
      "\u001b[1;31mAttributeError\u001b[0m: Can only use .str accessor with string values!"
     ]
    }
   ],
   "source": [
    "sale_store['서비스_업종_코드'] = sale_store['서비스_업종_코드'].str.replace(\"CS\",\"\")\n",
    "sale_store['서비스_업종_코드'] = sale_store['서비스_업종_코드'].astype('int64')"
   ]
  },
  {
   "cell_type": "code",
   "execution_count": 10,
   "metadata": {},
   "outputs": [
    {
     "data": {
      "text/html": [
       "<div>\n",
       "<style scoped>\n",
       "    .dataframe tbody tr th:only-of-type {\n",
       "        vertical-align: middle;\n",
       "    }\n",
       "\n",
       "    .dataframe tbody tr th {\n",
       "        vertical-align: top;\n",
       "    }\n",
       "\n",
       "    .dataframe thead th {\n",
       "        text-align: right;\n",
       "    }\n",
       "</style>\n",
       "<table border=\"1\" class=\"dataframe\">\n",
       "  <thead>\n",
       "    <tr style=\"text-align: right;\">\n",
       "      <th></th>\n",
       "      <th>기준_년분기_코드</th>\n",
       "      <th>상권_구분_코드</th>\n",
       "      <th>상권_구분_코드_명</th>\n",
       "      <th>상권_코드</th>\n",
       "      <th>상권_코드_명</th>\n",
       "      <th>서비스_업종_코드</th>\n",
       "      <th>서비스_업종_코드_명</th>\n",
       "      <th>당월_매출_금액</th>\n",
       "      <th>당월_매출_건수</th>\n",
       "      <th>월요일_매출_금액</th>\n",
       "      <th>...</th>\n",
       "      <th>연령대_20_매출_건수</th>\n",
       "      <th>연령대_30_매출_건수</th>\n",
       "      <th>연령대_40_매출_건수</th>\n",
       "      <th>연령대_50_매출_건수</th>\n",
       "      <th>연령대_60_이상_매출_건수</th>\n",
       "      <th>점포_수</th>\n",
       "      <th>유사_업종_점포_수</th>\n",
       "      <th>개업_점포_수</th>\n",
       "      <th>폐업_점포_수</th>\n",
       "      <th>프랜차이즈_점포_수</th>\n",
       "    </tr>\n",
       "  </thead>\n",
       "  <tbody>\n",
       "    <tr>\n",
       "      <th>0</th>\n",
       "      <td>20231</td>\n",
       "      <td>D</td>\n",
       "      <td>발달상권</td>\n",
       "      <td>3120050</td>\n",
       "      <td>서울숲역</td>\n",
       "      <td>100010</td>\n",
       "      <td>커피-음료</td>\n",
       "      <td>2.287190e+08</td>\n",
       "      <td>16371.0</td>\n",
       "      <td>27131928.0</td>\n",
       "      <td>...</td>\n",
       "      <td>3418.0</td>\n",
       "      <td>4305.0</td>\n",
       "      <td>2012.0</td>\n",
       "      <td>876.0</td>\n",
       "      <td>280.0</td>\n",
       "      <td>13.0</td>\n",
       "      <td>15.0</td>\n",
       "      <td>0.0</td>\n",
       "      <td>0.0</td>\n",
       "      <td>2.0</td>\n",
       "    </tr>\n",
       "    <tr>\n",
       "      <th>1</th>\n",
       "      <td>20231</td>\n",
       "      <td>D</td>\n",
       "      <td>발달상권</td>\n",
       "      <td>3120054</td>\n",
       "      <td>어린이대공원역</td>\n",
       "      <td>100007</td>\n",
       "      <td>치킨전문점</td>\n",
       "      <td>4.346601e+08</td>\n",
       "      <td>32664.0</td>\n",
       "      <td>18830029.0</td>\n",
       "      <td>...</td>\n",
       "      <td>17381.0</td>\n",
       "      <td>8389.0</td>\n",
       "      <td>2017.0</td>\n",
       "      <td>3425.0</td>\n",
       "      <td>865.0</td>\n",
       "      <td>8.0</td>\n",
       "      <td>15.0</td>\n",
       "      <td>2.0</td>\n",
       "      <td>0.0</td>\n",
       "      <td>7.0</td>\n",
       "    </tr>\n",
       "    <tr>\n",
       "      <th>2</th>\n",
       "      <td>20231</td>\n",
       "      <td>A</td>\n",
       "      <td>골목상권</td>\n",
       "      <td>3110757</td>\n",
       "      <td>양평역 2번</td>\n",
       "      <td>200033</td>\n",
       "      <td>부동산중개업</td>\n",
       "      <td>1.175862e+08</td>\n",
       "      <td>10348.0</td>\n",
       "      <td>10582756.0</td>\n",
       "      <td>...</td>\n",
       "      <td>4233.0</td>\n",
       "      <td>5174.0</td>\n",
       "      <td>705.0</td>\n",
       "      <td>0.0</td>\n",
       "      <td>0.0</td>\n",
       "      <td>10.0</td>\n",
       "      <td>10.0</td>\n",
       "      <td>0.0</td>\n",
       "      <td>0.0</td>\n",
       "      <td>0.0</td>\n",
       "    </tr>\n",
       "    <tr>\n",
       "      <th>3</th>\n",
       "      <td>20231</td>\n",
       "      <td>R</td>\n",
       "      <td>전통시장</td>\n",
       "      <td>3130024</td>\n",
       "      <td>남대문시장(자유상가)</td>\n",
       "      <td>300009</td>\n",
       "      <td>청과상</td>\n",
       "      <td>2.388089e+09</td>\n",
       "      <td>83111.0</td>\n",
       "      <td>336915823.0</td>\n",
       "      <td>...</td>\n",
       "      <td>1439.0</td>\n",
       "      <td>3624.0</td>\n",
       "      <td>8777.0</td>\n",
       "      <td>16469.0</td>\n",
       "      <td>47593.0</td>\n",
       "      <td>8.0</td>\n",
       "      <td>8.0</td>\n",
       "      <td>0.0</td>\n",
       "      <td>0.0</td>\n",
       "      <td>0.0</td>\n",
       "    </tr>\n",
       "    <tr>\n",
       "      <th>4</th>\n",
       "      <td>20231</td>\n",
       "      <td>A</td>\n",
       "      <td>골목상권</td>\n",
       "      <td>3110496</td>\n",
       "      <td>모래내우체국</td>\n",
       "      <td>300002</td>\n",
       "      <td>편의점</td>\n",
       "      <td>9.283034e+08</td>\n",
       "      <td>130919.0</td>\n",
       "      <td>121364674.0</td>\n",
       "      <td>...</td>\n",
       "      <td>26583.0</td>\n",
       "      <td>29399.0</td>\n",
       "      <td>32883.0</td>\n",
       "      <td>22500.0</td>\n",
       "      <td>15542.0</td>\n",
       "      <td>0.0</td>\n",
       "      <td>5.0</td>\n",
       "      <td>0.0</td>\n",
       "      <td>0.0</td>\n",
       "      <td>5.0</td>\n",
       "    </tr>\n",
       "  </tbody>\n",
       "</table>\n",
       "<p>5 rows × 58 columns</p>\n",
       "</div>"
      ],
      "text/plain": [
       "   기준_년분기_코드 상권_구분_코드 상권_구분_코드_명    상권_코드      상권_코드_명  서비스_업종_코드 서비스_업종_코드_명  \\\n",
       "0      20231        D       발달상권  3120050         서울숲역     100010       커피-음료   \n",
       "1      20231        D       발달상권  3120054      어린이대공원역     100007       치킨전문점   \n",
       "2      20231        A       골목상권  3110757       양평역 2번     200033      부동산중개업   \n",
       "3      20231        R       전통시장  3130024  남대문시장(자유상가)     300009         청과상   \n",
       "4      20231        A       골목상권  3110496       모래내우체국     300002         편의점   \n",
       "\n",
       "       당월_매출_금액  당월_매출_건수    월요일_매출_금액  ...  연령대_20_매출_건수  연령대_30_매출_건수  \\\n",
       "0  2.287190e+08   16371.0   27131928.0  ...        3418.0        4305.0   \n",
       "1  4.346601e+08   32664.0   18830029.0  ...       17381.0        8389.0   \n",
       "2  1.175862e+08   10348.0   10582756.0  ...        4233.0        5174.0   \n",
       "3  2.388089e+09   83111.0  336915823.0  ...        1439.0        3624.0   \n",
       "4  9.283034e+08  130919.0  121364674.0  ...       26583.0       29399.0   \n",
       "\n",
       "   연령대_40_매출_건수  연령대_50_매출_건수  연령대_60_이상_매출_건수  점포_수  유사_업종_점포_수  개업_점포_수  \\\n",
       "0        2012.0         876.0            280.0  13.0        15.0      0.0   \n",
       "1        2017.0        3425.0            865.0   8.0        15.0      2.0   \n",
       "2         705.0           0.0              0.0  10.0        10.0      0.0   \n",
       "3        8777.0       16469.0          47593.0   8.0         8.0      0.0   \n",
       "4       32883.0       22500.0          15542.0   0.0         5.0      0.0   \n",
       "\n",
       "   폐업_점포_수  프랜차이즈_점포_수  \n",
       "0      0.0         2.0  \n",
       "1      0.0         7.0  \n",
       "2      0.0         0.0  \n",
       "3      0.0         0.0  \n",
       "4      0.0         5.0  \n",
       "\n",
       "[5 rows x 58 columns]"
      ]
     },
     "execution_count": 10,
     "metadata": {},
     "output_type": "execute_result"
    }
   ],
   "source": [
    "sale_store.head()"
   ]
  },
  {
   "cell_type": "markdown",
   "metadata": {},
   "source": [
    "코드-코드명 딕셔너리 형태로 보관"
   ]
  },
  {
   "cell_type": "code",
   "execution_count": 11,
   "metadata": {},
   "outputs": [],
   "source": [
    "sale_coding = sale_store.set_index('상권_코드')['상권_코드_명'].to_dict()\n",
    "sale_split_coding = sale_store.set_index('상권_구분_코드')['상권_구분_코드_명'].to_dict()\n",
    "servce_coding = sale_store.set_index('서비스_업종_코드')['서비스_업종_코드_명'].to_dict()"
   ]
  },
  {
   "cell_type": "markdown",
   "metadata": {},
   "source": [
    "상권구분코드 원핫인코딩"
   ]
  },
  {
   "cell_type": "code",
   "execution_count": 12,
   "metadata": {},
   "outputs": [
    {
     "data": {
      "text/plain": [
       "array(['D', 'A', 'R', 'U'], dtype=object)"
      ]
     },
     "execution_count": 12,
     "metadata": {},
     "output_type": "execute_result"
    }
   ],
   "source": [
    "sale_store['상권_구분_코드'].unique()"
   ]
  },
  {
   "cell_type": "code",
   "execution_count": 13,
   "metadata": {},
   "outputs": [],
   "source": [
    "from sklearn.preprocessing import OneHotEncoder\n",
    "\n",
    "encoder = OneHotEncoder(sparse_output=False)\n",
    "encoded = encoder.fit_transform(sale_store[['상권_구분_코드']])\n",
    "encoded_df = pd.DataFrame(encoded, columns=encoder.get_feature_names_out(['상권_구분_코드']))\n",
    "sale_store = pd.concat([sale_store, encoded_df], axis=1)\n",
    "\n",
    "sale_store.drop(columns=['상권_구분_코드'], inplace=True)"
   ]
  },
  {
   "cell_type": "code",
   "execution_count": null,
   "metadata": {},
   "outputs": [],
   "source": [
    "sale_store"
   ]
  },
  {
   "cell_type": "markdown",
   "metadata": {},
   "source": [
    "수치형 데이터만 선택"
   ]
  },
  {
   "cell_type": "code",
   "execution_count": 14,
   "metadata": {},
   "outputs": [
    {
     "name": "stdout",
     "output_type": "stream",
     "text": [
      "<class 'pandas.core.frame.DataFrame'>\n",
      "RangeIndex: 62856 entries, 0 to 62855\n",
      "Data columns (total 58 columns):\n",
      " #   Column           Non-Null Count  Dtype  \n",
      "---  ------           --------------  -----  \n",
      " 0   기준_년분기_코드        62856 non-null  int64  \n",
      " 1   상권_코드            62856 non-null  int64  \n",
      " 2   서비스_업종_코드        62856 non-null  int64  \n",
      " 3   당월_매출_금액         62856 non-null  float64\n",
      " 4   당월_매출_건수         62856 non-null  float64\n",
      " 5   월요일_매출_금액        62856 non-null  float64\n",
      " 6   화요일_매출_금액        62856 non-null  float64\n",
      " 7   수요일_매출_금액        62856 non-null  float64\n",
      " 8   목요일_매출_금액        62856 non-null  float64\n",
      " 9   금요일_매출_금액        62856 non-null  float64\n",
      " 10  토요일_매출_금액        62856 non-null  float64\n",
      " 11  일요일_매출_금액        62856 non-null  float64\n",
      " 12  시간대_00~06_매출_금액  62856 non-null  float64\n",
      " 13  시간대_06~11_매출_금액  62856 non-null  float64\n",
      " 14  시간대_11~14_매출_금액  62856 non-null  float64\n",
      " 15  시간대_14~17_매출_금액  62856 non-null  float64\n",
      " 16  시간대_17~21_매출_금액  62856 non-null  float64\n",
      " 17  시간대_21~24_매출_금액  62856 non-null  float64\n",
      " 18  남성_매출_금액         62856 non-null  float64\n",
      " 19  여성_매출_금액         62856 non-null  float64\n",
      " 20  연령대_10_매출_금액     62856 non-null  float64\n",
      " 21  연령대_20_매출_금액     62856 non-null  float64\n",
      " 22  연령대_30_매출_금액     62856 non-null  float64\n",
      " 23  연령대_40_매출_금액     62856 non-null  float64\n",
      " 24  연령대_50_매출_금액     62856 non-null  float64\n",
      " 25  연령대_60_이상_매출_금액  62856 non-null  float64\n",
      " 26  주중_매출_건수         62856 non-null  float64\n",
      " 27  주말_매출_건수         62856 non-null  float64\n",
      " 28  월요일_매출_건수        62856 non-null  float64\n",
      " 29  화요일_매출_건수        62856 non-null  float64\n",
      " 30  수요일_매출_건수        62856 non-null  float64\n",
      " 31  목요일_매출_건수        62856 non-null  float64\n",
      " 32  금요일_매출_건수        62856 non-null  float64\n",
      " 33  토요일_매출_건수        62856 non-null  float64\n",
      " 34  일요일_매출_건수        62856 non-null  float64\n",
      " 35  시간대_건수~06_매출_건수  62856 non-null  float64\n",
      " 36  시간대_건수~11_매출_건수  62856 non-null  float64\n",
      " 37  시간대_건수~14_매출_건수  62856 non-null  float64\n",
      " 38  시간대_건수~17_매출_건수  62856 non-null  float64\n",
      " 39  시간대_건수~21_매출_건수  62856 non-null  float64\n",
      " 40  시간대_건수~24_매출_건수  62856 non-null  float64\n",
      " 41  남성_매출_건수         62856 non-null  float64\n",
      " 42  여성_매출_건수         62856 non-null  float64\n",
      " 43  연령대_10_매출_건수     62856 non-null  float64\n",
      " 44  연령대_20_매출_건수     62856 non-null  float64\n",
      " 45  연령대_30_매출_건수     62856 non-null  float64\n",
      " 46  연령대_40_매출_건수     62856 non-null  float64\n",
      " 47  연령대_50_매출_건수     62856 non-null  float64\n",
      " 48  연령대_60_이상_매출_건수  62856 non-null  float64\n",
      " 49  점포_수             62856 non-null  float64\n",
      " 50  유사_업종_점포_수       62856 non-null  float64\n",
      " 51  개업_점포_수          62856 non-null  float64\n",
      " 52  폐업_점포_수          62856 non-null  float64\n",
      " 53  프랜차이즈_점포_수       62856 non-null  float64\n",
      " 54  상권_구분_코드_A       62856 non-null  float64\n",
      " 55  상권_구분_코드_D       62856 non-null  float64\n",
      " 56  상권_구분_코드_R       62856 non-null  float64\n",
      " 57  상권_구분_코드_U       62856 non-null  float64\n",
      "dtypes: float64(55), int64(3)\n",
      "memory usage: 27.8 MB\n"
     ]
    }
   ],
   "source": [
    "numeric_sale_store = sale_store.select_dtypes([\"int64\", \"float64\"])\n",
    "numeric_sale_store.info()"
   ]
  },
  {
   "cell_type": "markdown",
   "metadata": {},
   "source": [
    "이상치 삭제"
   ]
  },
  {
   "cell_type": "code",
   "execution_count": 15,
   "metadata": {},
   "outputs": [
    {
     "data": {
      "text/plain": [
       "<bound method DataFrame.info of        기준_년분기_코드    상권_코드  서비스_업종_코드      당월_매출_금액  당월_매출_건수    월요일_매출_금액  \\\n",
       "0          20231  3120050     100010  2.287190e+08   16371.0   27131928.0   \n",
       "1          20231  3120054     100007  4.346601e+08   32664.0   18830029.0   \n",
       "2          20231  3110757     200033  1.175862e+08   10348.0   10582756.0   \n",
       "3          20231  3130024     300009  2.388089e+09   83111.0  336915823.0   \n",
       "4          20231  3110496     300002  9.283034e+08  130919.0  121364674.0   \n",
       "...          ...      ...        ...           ...       ...          ...   \n",
       "62821      20233  3130324     300018  2.778590e+08   15294.0   64011137.0   \n",
       "62822      20233  3130325     100001  2.071099e+08    7587.0   13077092.0   \n",
       "62823      20233  3130325     200028  2.404533e+07     804.0    1470330.0   \n",
       "62824      20233  3130325     300007  1.806430e+09   68076.0  226145006.0   \n",
       "62825      20233  3130325     300008  1.282835e+08    8221.0   20074422.0   \n",
       "\n",
       "         화요일_매출_금액    수요일_매출_금액    목요일_매출_금액    금요일_매출_금액  ...  \\\n",
       "0       30802664.0   38721053.0   42567208.0   34618338.0  ...   \n",
       "1       65737534.0   71800527.0   67085488.0   87524125.0  ...   \n",
       "2       10582756.0    7055170.0    3527585.0   23517235.0  ...   \n",
       "3      228205601.0  320876396.0  571766061.0  659120624.0  ...   \n",
       "4      134235734.0  136761922.0  125903909.0  142445062.0  ...   \n",
       "...            ...          ...          ...          ...  ...   \n",
       "62821   57616860.0   28309344.0   47171754.0   48172962.0  ...   \n",
       "62822   39350060.0   26945161.0   38962086.0   27980971.0  ...   \n",
       "62823    4432889.0    3914242.0    2311240.0    3917139.0  ...   \n",
       "62824  227873054.0  308602062.0  308535172.0  211822140.0  ...   \n",
       "62825   14782297.0   20957326.0   26509747.0   15136714.0  ...   \n",
       "\n",
       "       연령대_60_이상_매출_건수  점포_수  유사_업종_점포_수  개업_점포_수  폐업_점포_수  프랜차이즈_점포_수  \\\n",
       "0                280.0  13.0        15.0      0.0      0.0         2.0   \n",
       "1                865.0   8.0        15.0      2.0      0.0         7.0   \n",
       "2                  0.0  10.0        10.0      0.0      0.0         0.0   \n",
       "3              47593.0   8.0         8.0      0.0      0.0         0.0   \n",
       "4              15542.0   0.0         5.0      0.0      0.0         5.0   \n",
       "...                ...   ...         ...      ...      ...         ...   \n",
       "62821           6127.0   3.0         3.0      0.0      0.0         0.0   \n",
       "62822           1239.0   8.0         8.0      0.0      0.0         0.0   \n",
       "62823            324.0   5.0         5.0      0.0      0.0         0.0   \n",
       "62824          32409.0   7.0         7.0      0.0      1.0         0.0   \n",
       "62825           4795.0   8.0         8.0      0.0      0.0         0.0   \n",
       "\n",
       "       상권_구분_코드_A  상권_구분_코드_D  상권_구분_코드_R  상권_구분_코드_U  \n",
       "0             0.0         1.0         0.0         0.0  \n",
       "1             0.0         1.0         0.0         0.0  \n",
       "2             1.0         0.0         0.0         0.0  \n",
       "3             0.0         0.0         1.0         0.0  \n",
       "4             1.0         0.0         0.0         0.0  \n",
       "...           ...         ...         ...         ...  \n",
       "62821         0.0         0.0         1.0         0.0  \n",
       "62822         0.0         0.0         1.0         0.0  \n",
       "62823         0.0         0.0         1.0         0.0  \n",
       "62824         0.0         0.0         1.0         0.0  \n",
       "62825         0.0         0.0         1.0         0.0  \n",
       "\n",
       "[59082 rows x 58 columns]>"
      ]
     },
     "execution_count": 15,
     "metadata": {},
     "output_type": "execute_result"
    }
   ],
   "source": [
    "from scipy import stats\n",
    "import numpy as np\n",
    "import pandas as pd\n",
    "\n",
    "# Z-점수 계산\n",
    "z = np.abs(stats.zscore(numeric_sale_store))\n",
    "threshold = 3\n",
    "\n",
    "#이상치를 제외하고 출력\n",
    "sale_store_z = numeric_sale_store[(z < threshold).all(axis=1)]\n",
    "sale_store_z.info"
   ]
  },
  {
   "cell_type": "markdown",
   "metadata": {},
   "source": [
    "이상치 비율 확인"
   ]
  },
  {
   "cell_type": "code",
   "execution_count": 18,
   "metadata": {},
   "outputs": [
    {
     "data": {
      "text/plain": [
       "0.060042000763650294"
      ]
     },
     "execution_count": 18,
     "metadata": {},
     "output_type": "execute_result"
    }
   ],
   "source": [
    "1 - (len(sale_store_z) / len(numeric_sale_store))"
   ]
  },
  {
   "cell_type": "markdown",
   "metadata": {},
   "source": [
    "이상치 제거 시각화"
   ]
  },
  {
   "cell_type": "code",
   "execution_count": 29,
   "metadata": {},
   "outputs": [
    {
     "data": {
      "image/png": "[encoded data removed]",
      "text/plain": [
       "<Figure size 3000x2400 with 2 Axes>"
      ]
     },
     "metadata": {},
     "output_type": "display_data"
    },
    {
     "data": {
      "image/png": "[encoded data removed]",
      "text/plain": [
       "<Figure size 3000x2400 with 2 Axes>"
      ]
     },
     "metadata": {},
     "output_type": "display_data"
    },
    {
     "data": {
      "image/png": "[encoded data removed]",
      "text/plain": [
       "<Figure size 3000x2400 with 2 Axes>"
      ]
     },
     "metadata": {},
     "output_type": "display_data"
    },
    {
     "data": {
      "image/png": "[encoded data removed]",
      "text/plain": [
       "<Figure size 3000x2400 with 2 Axes>"
      ]
     },
     "metadata": {},
     "output_type": "display_data"
    }
   ],
   "source": [
    "import matplotlib.pyplot as plt\n",
    "\n",
    "plt.rcParams['font.family'] ='Malgun Gothic'\n",
    "plt.rcParams['axes.unicode_minus'] =False\n",
    "\n",
    "day = ['월요일_매출_금액', '화요일_매출_금액', '수요일_매출_금액', '목요일_매출_금액', '금요일_매출_금액',\n",
    "       '토요일_매출_금액', '일요일_매출_금액']\n",
    "hour = ['시간대_00~06_매출_금액', '시간대_06~11_매출_금액',\n",
    "       '시간대_11~14_매출_금액', '시간대_14~17_매출_금액', '시간대_17~21_매출_금액']\n",
    "gender = ['남성_매출_금액', '여성_매출_금액']\n",
    "age = ['연령대_10_매출_금액',\n",
    "       '연령대_20_매출_금액', '연령대_30_매출_금액', '연령대_40_매출_금액', '연령대_50_매출_금액',\n",
    "       '연령대_60_이상_매출_금액']\n",
    "l = [day, hour, gender, age]\n",
    "r = [2.5e11, 3.0e11, 5e11, 2.5e11]\n",
    "\n",
    "for (i, v), r in zip(enumerate(l), r):\n",
    "       plt.figure(figsize=(30, 24))\n",
    "       plt.subplot(4, 2, 2*i + 1)\n",
    "       plt.boxplot(numeric_sale_store[v].values, labels=v)\n",
    "       plt.ylim(0, r)\n",
    "       plt.title('Before Zscore')\n",
    "\n",
    "       plt.subplot(4, 2, 2*i + 2)\n",
    "       plt.boxplot(sale_store_z[v].values, labels=v)\n",
    "       plt.ylim(0, r)\n",
    "       plt.title('After Zscore')\n",
    "\n",
    "plt.tight_layout()\n",
    "plt.show()"
   ]
  },
  {
   "cell_type": "markdown",
   "metadata": {},
   "source": [
    "학습, 시험데이터 분리"
   ]
  },
  {
   "cell_type": "code",
   "execution_count": 17,
   "metadata": {},
   "outputs": [],
   "source": [
    "from sklearn.model_selection import train_test_split\n",
    "\n",
    "X = np.array(sale_store_z.drop(columns=['폐업_점포_수']))\n",
    "y = np.array(sale_store_z['폐업_점포_수'])\n",
    "\n",
    "# from sklearn.preprocessing import StandardScaler\n",
    "# scaler = StandardScaler()\n",
    "# X = scaler.fit_transform(X)\n",
    "X_train, X_test, y_train, y_test = train_test_split(X, y, test_size=0.2, random_state=1)"
   ]
  },
  {
   "cell_type": "markdown",
   "metadata": {},
   "source": [
    "스케일러"
   ]
  },
  {
   "cell_type": "code",
   "execution_count": 19,
   "metadata": {},
   "outputs": [],
   "source": [
    "from sklearn.preprocessing import StandardScaler\n",
    "from sklearn.preprocessing import RobustScaler\n"
   ]
  },
  {
   "cell_type": "code",
   "execution_count": 20,
   "metadata": {},
   "outputs": [],
   "source": [
    "scaler = StandardScaler()\n",
    "# scaler = RobustScaler()\n",
    "\n",
    "X_train_scaled = scaler.fit_transform(X_train)\n",
    "X_test_scaled = scaler.transform(X_test)\n",
    "\n",
    "# X_train_scaled = X_train.copy()\n",
    "# X_test_scaled = X_test.copy()"
   ]
  },
  {
   "cell_type": "markdown",
   "metadata": {},
   "source": [
    "모델 학습"
   ]
  },
  {
   "cell_type": "code",
   "execution_count": 21,
   "metadata": {},
   "outputs": [],
   "source": [
    "from sklearn.ensemble import RandomForestRegressor\n",
    "from sklearn.metrics import mean_squared_error, r2_score\n",
    "\n",
    "model = RandomForestRegressor(max_depth=30, random_state=42)\n",
    "model.fit(X_train_scaled, y_train)\n",
    "\n",
    "# y_pred = np.round(model.predict(X_test_scaled))\n",
    "y_pred = model.predict(X_test_scaled)\n",
    "\n",
    "mse = mean_squared_error(y_test, y_pred)\n",
    "print(\"Mean Squared Error:\", mse)\n",
    "r2 = r2_score(y_test, y_pred)\n",
    "print(\"R^2:\", r2)"
   ]
  },
  {
   "cell_type": "code",
   "execution_count": null,
   "metadata": {},
   "outputs": [],
   "source": [
    "from sklearn.linear_model import LinearRegression\n",
    "\n",
    "model = LinearRegression()\n",
    "model.fit(X_train_scaled, y_train)\n",
    "y_pred = model.predict(X_test_scaled)\n",
    "\n",
    "mse = mean_squared_error(y_test, y_pred)\n",
    "print(\"Mean Squared Error:\", mse)\n",
    "r2 = r2_score(y_test, y_pred)\n",
    "print(\"R^2:\", r2)"
   ]
  },
  {
   "cell_type": "code",
   "execution_count": null,
   "metadata": {},
   "outputs": [],
   "source": [
    "from sklearn.preprocessing import PolynomialFeatures\n",
    "from sklearn.pipeline import make_pipeline\n",
    "\n",
    "degree = 2\n",
    "polyreg = make_pipeline(PolynomialFeatures(degree), LinearRegression())\n",
    "polyreg.fit(X_train_scaled, y_train)\n",
    "y_pred = polyreg.predict(X_test_scaled)\n",
    "\n",
    "mse = mean_squared_error(y_test, y_pred)\n",
    "print(\"Mean Squared Error:\", mse)\n",
    "r2 = r2_score(y_test, y_pred)\n",
    "print(\"R^2:\", r2)"
   ]
  },
  {
   "cell_type": "code",
   "execution_count": null,
   "metadata": {},
   "outputs": [],
   "source": [
    "from sklearn.tree import DecisionTreeRegressor\n",
    "\n",
    "model = DecisionTreeRegressor(random_state=42)\n",
    "model.fit(X_train_scaled, y_train)\n",
    "y_pred = model.predict(X_test_scaled)\n",
    "\n",
    "mse = mean_squared_error(y_test, y_pred)\n",
    "print(\"Mean Squared Error:\", mse)\n",
    "r2 = r2_score(y_test, y_pred)\n",
    "print(\"R^2:\", r2)"
   ]
  },
  {
   "cell_type": "code",
   "execution_count": null,
   "metadata": {},
   "outputs": [],
   "source": [
    "from sklearn.svm import SVR\n",
    "\n",
    "model = SVR(kernel='rbf')\n",
    "model.fit(X_train_scaled, y_train)\n",
    "y_pred = model.predict(X_test_scaled)\n",
    "\n",
    "mse = mean_squared_error(y_test, y_pred)\n",
    "print(\"Mean Squared Error:\", mse)\n",
    "r2 = r2_score(y_test, y_pred)\n",
    "print(\"R^2:\", r2)"
   ]
  },
  {
   "cell_type": "code",
   "execution_count": null,
   "metadata": {},
   "outputs": [],
   "source": [
    "import xgboost as xgb\n",
    "\n",
    "model = xgb.XGBRegressor()\n",
    "model.fit(X_train_scaled, y_train)\n",
    "y_pred = model.predict(X_test_scaled)\n",
    "\n",
    "mse = mean_squared_error(y_test, y_pred)\n",
    "print(\"Mean Squared Error:\", mse)\n",
    "r2 = r2_score(y_test, y_pred)\n",
    "print(\"R^2:\", r2)"
   ]
  },
  {
   "cell_type": "code",
   "execution_count": null,
   "metadata": {},
   "outputs": [],
   "source": [
    "import lightgbm as lgb\n",
    "\n",
    "model = lgb.LGBMRegressor()\n",
    "model.fit(X_train_scaled, y_train)\n",
    "y_pred = model.predict(X_test_scaled)\n",
    "\n",
    "mse = mean_squared_error(y_test, y_pred)\n",
    "print(\"Mean Squared Error:\", mse)\n",
    "r2 = r2_score(X_test_scaled, y_pred)\n",
    "print(\"R^2:\", r2)"
   ]
  },
  {
   "cell_type": "code",
   "execution_count": null,
   "metadata": {},
   "outputs": [],
   "source": [
    "from sklearn.neighbors import KNeighborsRegressor\n",
    "\n",
    "l=[]\n",
    "m=[]\n",
    "for i in (r := range(2, 31)):\n",
    "    model = KNeighborsRegressor(n_neighbors=i)\n",
    "    model.fit(X_train_scaled, y_train)\n",
    "    y_pred = model.predict(X_test_scaled)\n",
    "    mse = mean_squared_error(y_test, y_pred)\n",
    "    r2 = r2_score(y_test, y_pred)\n",
    "    l.append(mse)\n",
    "    m.append(r2)\n",
    "\n",
    "fig, axs = plt.subplots(2, 1, figsize=(10, 8))\n",
    "axs[0].plot(r, l)\n",
    "axs[0].set_title('MSE')\n",
    "axs[1].plot(r, m)\n",
    "axs[1].set_title('R2')\n",
    "\n",
    "print('KNR')\n",
    "plt.show()"
   ]
  },
  {
   "cell_type": "markdown",
   "metadata": {},
   "source": [
    "모델 학습"
   ]
  },
  {
   "cell_type": "code",
   "execution_count": null,
   "metadata": {},
   "outputs": [],
   "source": [
    "# scaler = StandardScaler()\n",
    "scaler = RobustScaler()\n",
    "\n",
    "X_train_scaled = scaler.fit_transform(X_train)\n",
    "X_test_scaled = scaler.transform(X_test)\n",
    "\n",
    "# X_train_scaled = X_train.copy()\n",
    "# X_test_scaled = X_test.copy()"
   ]
  },
  {
   "cell_type": "code",
   "execution_count": null,
   "metadata": {},
   "outputs": [],
   "source": [
    "from sklearn.ensemble import RandomForestRegressor\n",
    "from sklearn.metrics import mean_squared_error, r2_score\n",
    "\n",
    "model = RandomForestRegressor(max_depth=30, random_state=42)\n",
    "model.fit(X_train_scaled, y_train)\n",
    "\n",
    "# y_pred = np.round(model.predict(X_test_scaled))\n",
    "y_pred = model.predict(X_test_scaled)\n",
    "\n",
    "mse = mean_squared_error(y_test, y_pred)\n",
    "print(\"Mean Squared Error:\", mse)\n",
    "r2 = r2_score(y_test, y_pred)\n",
    "print(\"R^2:\", r2)"
   ]
  },
  {
   "cell_type": "code",
   "execution_count": null,
   "metadata": {},
   "outputs": [],
   "source": [
    "from sklearn.linear_model import LinearRegression\n",
    "\n",
    "model = LinearRegression()\n",
    "model.fit(X_train_scaled, y_train)\n",
    "y_pred = model.predict(X_test_scaled)\n",
    "\n",
    "mse = mean_squared_error(y_test, y_pred)\n",
    "print(\"Mean Squared Error:\", mse)\n",
    "r2 = r2_score(y_test, y_pred)\n",
    "print(\"R^2:\", r2)"
   ]
  },
  {
   "cell_type": "code",
   "execution_count": null,
   "metadata": {},
   "outputs": [],
   "source": [
    "from sklearn.preprocessing import PolynomialFeatures\n",
    "from sklearn.pipeline import make_pipeline\n",
    "\n",
    "degree = 2\n",
    "polyreg = make_pipeline(PolynomialFeatures(degree), LinearRegression())\n",
    "polyreg.fit(X_train_scaled, y_train)\n",
    "y_pred = polyreg.predict(X_test_scaled)\n",
    "\n",
    "mse = mean_squared_error(y_test, y_pred)\n",
    "print(\"Mean Squared Error:\", mse)\n",
    "r2 = r2_score(y_test, y_pred)\n",
    "print(\"R^2:\", r2)"
   ]
  },
  {
   "cell_type": "code",
   "execution_count": null,
   "metadata": {},
   "outputs": [],
   "source": [
    "from sklearn.tree import DecisionTreeRegressor\n",
    "\n",
    "model = DecisionTreeRegressor(random_state=42)\n",
    "model.fit(X_train_scaled, y_train)\n",
    "y_pred = model.predict(X_test_scaled)\n",
    "\n",
    "mse = mean_squared_error(y_test, y_pred)\n",
    "print(\"Mean Squared Error:\", mse)\n",
    "r2 = r2_score(y_test, y_pred)\n",
    "print(\"R^2:\", r2)"
   ]
  },
  {
   "cell_type": "code",
   "execution_count": null,
   "metadata": {},
   "outputs": [],
   "source": [
    "from sklearn.svm import SVR\n",
    "\n",
    "model = SVR(kernel='rbf')\n",
    "model.fit(X_train_scaled, y_train)\n",
    "y_pred = model.predict(X_test_scaled)\n",
    "\n",
    "mse = mean_squared_error(y_test, y_pred)\n",
    "print(\"Mean Squared Error:\", mse)\n",
    "r2 = r2_score(y_test, y_pred)\n",
    "print(\"R^2:\", r2)"
   ]
  },
  {
   "cell_type": "code",
   "execution_count": null,
   "metadata": {},
   "outputs": [],
   "source": [
    "import xgboost as xgb\n",
    "\n",
    "model = xgb.XGBRegressor()\n",
    "model.fit(X_train_scaled, y_train)\n",
    "y_pred = model.predict(X_test_scaled)\n",
    "\n",
    "mse = mean_squared_error(y_test, y_pred)\n",
    "print(\"Mean Squared Error:\", mse)\n",
    "r2 = r2_score(y_test, y_pred)\n",
    "print(\"R^2:\", r2)"
   ]
  },
  {
   "cell_type": "code",
   "execution_count": null,
   "metadata": {},
   "outputs": [],
   "source": [
    "import lightgbm as lgb\n",
    "\n",
    "model = lgb.LGBMRegressor()\n",
    "model.fit(X_train_scaled, y_train)\n",
    "y_pred = model.predict(X_test_scaled)\n",
    "\n",
    "mse = mean_squared_error(y_test, y_pred)\n",
    "print(\"Mean Squared Error:\", mse)\n",
    "r2 = r2_score(X_test_scaled, y_pred)\n",
    "print(\"R^2:\", r2)"
   ]
  },
  {
   "cell_type": "code",
   "execution_count": null,
   "metadata": {},
   "outputs": [],
   "source": [
    "from sklearn.neighbors import KNeighborsRegressor\n",
    "\n",
    "l=[]\n",
    "m=[]\n",
    "for i in (r := range(2, 31)):\n",
    "    model = KNeighborsRegressor(n_neighbors=i)\n",
    "    model.fit(X_train_scaled, y_train)\n",
    "    y_pred = model.predict(X_test_scaled)\n",
    "    mse = mean_squared_error(y_test, y_pred)\n",
    "    r2 = r2_score(y_test, y_pred)\n",
    "    l.append(mse)\n",
    "    m.append(r2)\n",
    "\n",
    "fig, axs = plt.subplots(2, 1, figsize=(10, 8))\n",
    "axs[0].plot(r, l)\n",
    "axs[0].set_title('MSE')\n",
    "axs[1].plot(r, m)\n",
    "axs[1].set_title('R2')\n",
    "\n",
    "print('KNR')\n",
    "plt.show()"
   ]
  },
  {
   "cell_type": "code",
   "execution_count": null,
   "metadata": {},
   "outputs": [],
   "source": [
    "from sklearn.model_selection import GridSearchCV\n",
    "from lightgbm import LGBMRegressor\n",
    "\n",
    "# LightGBM의 하이퍼파라미터 그리드 정의\n",
    "param_grid = {\n",
    "    'learning_rate': [0.01, 0.1, 0.3],\n",
    "    'n_estimators': [50, 100, 200],\n",
    "    'max_depth': [3, 5, 7],\n",
    "    'min_child_samples': [10, 20, 30],\n",
    "    # 다른 하이퍼파라미터도 추가 가능\n",
    "}\n",
    "\n",
    "# LGBMRegressor 객체 생성\n",
    "model = LGBMRegressor()\n",
    "\n",
    "# GridSearchCV 객체 생성\n",
    "grid_search = GridSearchCV(model, param_grid, cv=5, scoring='neg_mean_squared_error')\n",
    "\n",
    "# 그리드 서치 수행\n",
    "grid_search.fit(X_train_scaled, y_train)\n",
    "\n",
    "# 최적의 하이퍼파라미터 및 성능 출력\n",
    "print(\"Best Parameters:\", grid_search.best_params_)\n",
    "print(\"Best Score:\", -grid_search.best_score_)  # 음수로 반환된 MSE 값을 다시 양수로 변환하여 출력\n",
    "\n",
    "# 최적의 모델 추출\n",
    "best_model = grid_search.best_estimator_\n",
    "\n",
    "# 테스트 데이터로 예측값 생성\n",
    "y_pred = best_model.predict(X_test_scaled)\n",
    "\n",
    "# R² 값 계산\n",
    "r2 = r2_score(y_test, y_pred)\n",
    "print(\"R² Score:\", r2)"
   ]
  },
  {
   "cell_type": "markdown",
   "metadata": {},
   "source": [
    "모델 학습"
   ]
  },
  {
   "cell_type": "code",
   "execution_count": null,
   "metadata": {},
   "outputs": [],
   "source": [
    "# scaler = StandardScaler()\n",
    "# # scaler = RobustScaler()\n",
    "\n",
    "# X_train_scaled = scaler.fit_transform(X_train)\n",
    "# X_test_scaled = scaler.transform(X_test)\n",
    "\n",
    "X_train_scaled = X_train.copy()\n",
    "X_test_scaled = X_test.copy()"
   ]
  },
  {
   "cell_type": "code",
   "execution_count": null,
   "metadata": {},
   "outputs": [],
   "source": [
    "from sklearn.ensemble import RandomForestRegressor\n",
    "from sklearn.metrics import mean_squared_error, r2_score\n",
    "\n",
    "model = RandomForestRegressor(max_depth=30, random_state=42)\n",
    "model.fit(X_train_scaled, y_train)\n",
    "\n",
    "# y_pred = np.round(model.predict(X_test_scaled))\n",
    "y_pred = model.predict(X_test_scaled)\n",
    "\n",
    "mse = mean_squared_error(y_test, y_pred)\n",
    "print(\"Mean Squared Error:\", mse)\n",
    "r2 = r2_score(y_test, y_pred)\n",
    "print(\"R^2:\", r2)"
   ]
  },
  {
   "cell_type": "code",
   "execution_count": null,
   "metadata": {},
   "outputs": [],
   "source": [
    "from sklearn.linear_model import LinearRegression\n",
    "\n",
    "model = LinearRegression()\n",
    "model.fit(X_train_scaled, y_train)\n",
    "y_pred = model.predict(X_test_scaled)\n",
    "\n",
    "mse = mean_squared_error(y_test, y_pred)\n",
    "print(\"Mean Squared Error:\", mse)\n",
    "r2 = r2_score(y_test, y_pred)\n",
    "print(\"R^2:\", r2)"
   ]
  },
  {
   "cell_type": "code",
   "execution_count": null,
   "metadata": {},
   "outputs": [],
   "source": [
    "from sklearn.preprocessing import PolynomialFeatures\n",
    "from sklearn.pipeline import make_pipeline\n",
    "\n",
    "degree = 2\n",
    "polyreg = make_pipeline(PolynomialFeatures(degree), LinearRegression())\n",
    "polyreg.fit(X_train_scaled, y_train)\n",
    "y_pred = polyreg.predict(X_test_scaled)\n",
    "\n",
    "mse = mean_squared_error(y_test, y_pred)\n",
    "print(\"Mean Squared Error:\", mse)\n",
    "r2 = r2_score(y_test, y_pred)\n",
    "print(\"R^2:\", r2)"
   ]
  },
  {
   "cell_type": "code",
   "execution_count": null,
   "metadata": {},
   "outputs": [],
   "source": [
    "from sklearn.tree import DecisionTreeRegressor\n",
    "\n",
    "model = DecisionTreeRegressor(random_state=42)\n",
    "model.fit(X_train_scaled, y_train)\n",
    "y_pred = model.predict(X_test_scaled)\n",
    "\n",
    "mse = mean_squared_error(y_test, y_pred)\n",
    "print(\"Mean Squared Error:\", mse)\n",
    "r2 = r2_score(y_test, y_pred)\n",
    "print(\"R^2:\", r2)"
   ]
  },
  {
   "cell_type": "code",
   "execution_count": null,
   "metadata": {},
   "outputs": [],
   "source": [
    "from sklearn.svm import SVR\n",
    "\n",
    "model = SVR(kernel='rbf')\n",
    "model.fit(X_train_scaled, y_train)\n",
    "y_pred = model.predict(X_test_scaled)\n",
    "\n",
    "mse = mean_squared_error(y_test, y_pred)\n",
    "print(\"Mean Squared Error:\", mse)\n",
    "r2 = r2_score(y_test, y_pred)\n",
    "print(\"R^2:\", r2)"
   ]
  },
  {
   "cell_type": "code",
   "execution_count": null,
   "metadata": {},
   "outputs": [],
   "source": [
    "import xgboost as xgb\n",
    "\n",
    "model = xgb.XGBRegressor()\n",
    "model.fit(X_train_scaled, y_train)\n",
    "y_pred = model.predict(X_test_scaled)\n",
    "\n",
    "mse = mean_squared_error(y_test, y_pred)\n",
    "print(\"Mean Squared Error:\", mse)\n",
    "r2 = r2_score(y_test, y_pred)\n",
    "print(\"R^2:\", r2)"
   ]
  },
  {
   "cell_type": "code",
   "execution_count": null,
   "metadata": {},
   "outputs": [],
   "source": [
    "import lightgbm as lgb\n",
    "\n",
    "model = lgb.LGBMRegressor()\n",
    "model.fit(X_train_scaled, y_train)\n",
    "y_pred = model.predict(X_test_scaled)\n",
    "\n",
    "mse = mean_squared_error(y_test, y_pred)\n",
    "print(\"Mean Squared Error:\", mse)\n",
    "r2 = r2_score(X_test_scaled, y_pred)\n",
    "print(\"R^2:\", r2)"
   ]
  },
  {
   "cell_type": "code",
   "execution_count": null,
   "metadata": {},
   "outputs": [],
   "source": [
    "from sklearn.neighbors import KNeighborsRegressor\n",
    "\n",
    "l=[]\n",
    "m=[]\n",
    "for i in (r := range(2, 31)):\n",
    "    model = KNeighborsRegressor(n_neighbors=i)\n",
    "    model.fit(X_train_scaled, y_train)\n",
    "    y_pred = model.predict(X_test_scaled)\n",
    "    mse = mean_squared_error(y_test, y_pred)\n",
    "    r2 = r2_score(y_test, y_pred)\n",
    "    l.append(mse)\n",
    "    m.append(r2)\n",
    "\n",
    "fig, axs = plt.subplots(2, 1, figsize=(10, 8))\n",
    "axs[0].plot(r, l)\n",
    "axs[0].set_title('MSE')\n",
    "axs[1].plot(r, m)\n",
    "axs[1].set_title('R2')\n",
    "\n",
    "print('KNR')\n",
    "plt.show()"
   ]
  },
  {
   "cell_type": "code",
   "execution_count": null,
   "metadata": {},
   "outputs": [],
   "source": [
    "from sklearn.model_selection import GridSearchCV\n",
    "from lightgbm import LGBMRegressor\n",
    "\n",
    "# LightGBM의 하이퍼파라미터 그리드 정의\n",
    "param_grid = {\n",
    "    'learning_rate': [0.01, 0.1, 0.3],\n",
    "    'n_estimators': [50, 100, 200],\n",
    "    'max_depth': [3, 5, 7],\n",
    "    'min_child_samples': [10, 20, 30],\n",
    "    # 다른 하이퍼파라미터도 추가 가능\n",
    "}\n",
    "\n",
    "# LGBMRegressor 객체 생성\n",
    "model = LGBMRegressor()\n",
    "\n",
    "# GridSearchCV 객체 생성\n",
    "grid_search = GridSearchCV(model, param_grid, cv=5, scoring='neg_mean_squared_error')\n",
    "\n",
    "# 그리드 서치 수행\n",
    "grid_search.fit(X_train_scaled, y_train)\n",
    "\n",
    "# 최적의 하이퍼파라미터 및 성능 출력\n",
    "print(\"Best Parameters:\", grid_search.best_params_)\n",
    "print(\"Best Score:\", -grid_search.best_score_)  # 음수로 반환된 MSE 값을 다시 양수로 변환하여 출력\n",
    "\n",
    "# 최적의 모델 추출\n",
    "best_model = grid_search.best_estimator_\n",
    "\n",
    "# 테스트 데이터로 예측값 생성\n",
    "y_pred = best_model.predict(X_test_scaled)\n",
    "\n",
    "# R² 값 계산\n",
    "r2 = r2_score(y_test, y_pred)\n",
    "print(\"R² Score:\", r2)"
   ]
  },
  {
   "cell_type": "markdown",
   "metadata": {},
   "source": [
    "lf, lgb 최적 파라미터 찾기"
   ]
  },
  {
   "cell_type": "code",
   "execution_count": null,
   "metadata": {},
   "outputs": [],
   "source": [
    "from sklearn.model_selection import GridSearchCV\n",
    "from sklearn.linear_model import LinearRegression\n",
    "from sklearn.metrics import mean_squared_error"
   ]
  },
  {
   "cell_type": "code",
   "execution_count": null,
   "metadata": {},
   "outputs": [],
   "source": [
    "# 선형 회귀 모델 생성\n",
    "model = LinearRegression()\n",
    "\n",
    "param_grid = {\n",
    "    'fit_intercept': [True, False],\n",
    "    'copy_X': [True, False],\n",
    "    'n_jobs': [None, -1],     # 병렬 처리를 위한 작업 수, -1은 가능한 모든 CPU를 사용\n",
    "    'positive': [True, False] # 예측값이 양수가 되도록 보장\n",
    "}\n",
    "\n",
    "# GridSearchCV 객체 생성\n",
    "grid_search = GridSearchCV(model, param_grid, cv=5, scoring='neg_mean_squared_error')\n",
    "\n",
    "# 그리드 서치 수행\n",
    "grid_search.fit(X_train_scaled, y_train)\n",
    "\n",
    "# 최적의 하이퍼파라미터 및 성능 출력\n",
    "print(\"Best Parameters:\", grid_search.best_params_)\n",
    "print(\"Best Score:\", -grid_search.best_score_)  # 음수로 반환된 MSE 값을 다시 양수로 변환하여 출력\n",
    "\n",
    "# 테스트 세트로 성능 평가\n",
    "best_model = grid_search.best_estimator_\n",
    "y_pred = best_model.predict(X_test_scaled)\n",
    "mse = mean_squared_error(y_test, y_pred)\n",
    "print(\"Test Set MSE:\", mse)\n",
    "\n",
    "# 최적의 모델 추출\n",
    "best_model = grid_search.best_estimator_\n",
    "\n",
    "# 테스트 데이터로 예측값 생성\n",
    "y_pred = best_model.predict(X_test_scaled)\n",
    "\n",
    "# R² 값 계산\n",
    "r2 = r2_score(y_test, y_pred)\n",
    "print(\"R² Score:\", r2)"
   ]
  },
  {
   "cell_type": "code",
   "execution_count": null,
   "metadata": {},
   "outputs": [],
   "source": [
    "import matplotlib.pyplot as plt\n",
    "\n",
    "fig, axs = plt.subplots(2)\n",
    "\n",
    "axs[0].plot(range(len(y_test)), y_test, color='blue', label='Target')\n",
    "axs[0].set_title('Target')\n",
    "axs[0].set_ylabel('%')\n",
    "\n",
    "axs[1].plot(range(len(y_pred)), y_pred, color='orange', label='Predicted')\n",
    "axs[1].set_title('Predicted')\n",
    "axs[1].set_ylabel('%')\n",
    "\n",
    "plt.tight_layout()\n",
    "plt.show()"
   ]
  },
  {
   "cell_type": "code",
   "execution_count": null,
   "metadata": {},
   "outputs": [],
   "source": [
    "# LGBMRegressor 객체 생성\n",
    "model = LGBMRegressor()\n",
    "\n",
    "# LightGBM의 하이퍼파라미터 그리드 정의\n",
    "param_grid = {\n",
    "    'learning_rate': [0.01, 0.1, 0.3],\n",
    "    'n_estimators': [50, 100, 200],\n",
    "    'max_depth': [3, 5, 7],\n",
    "    'min_child_samples': [10, 20, 30],\n",
    "    # 다른 하이퍼파라미터도 추가 가능\n",
    "}\n",
    "\n",
    "# GridSearchCV 객체 생성\n",
    "grid_search = GridSearchCV(model, param_grid, cv=5, scoring='neg_mean_squared_error')\n",
    "\n",
    "# 그리드 서치 수행\n",
    "grid_search.fit(X_train_scaled, y_train)\n",
    "\n",
    "# 최적의 하이퍼파라미터 및 성능 출력\n",
    "print(\"Best Parameters:\", grid_search.best_params_)\n",
    "print(\"Best Score:\", -grid_search.best_score_)  # 음수로 반환된 MSE 값을 다시 양수로 변환하여 출력\n",
    "\n",
    "# 최적의 모델 추출\n",
    "best_model = grid_search.best_estimator_\n",
    "\n",
    "# 테스트 데이터로 예측값 생성\n",
    "y_pred = best_model.predict(X_test_scaled)\n",
    "\n",
    "# R² 값 계산\n",
    "r2 = r2_score(y_test, y_pred)\n",
    "print(\"R² Score:\", r2)"
   ]
  },
  {
   "cell_type": "code",
   "execution_count": null,
   "metadata": {},
   "outputs": [],
   "source": [
    "import matplotlib.pyplot as plt\n",
    "\n",
    "fig, axs = plt.subplots(2)\n",
    "\n",
    "axs[0].plot(range(len(y_test)), y_test, color='blue', label='Target')\n",
    "axs[0].set_title('Target')\n",
    "axs[0].set_ylabel('%')\n",
    "\n",
    "axs[1].plot(range(len(y_pred)), y_pred, color='orange', label='Predicted')\n",
    "axs[1].set_title('Predicted')\n",
    "axs[1].set_ylabel('%')\n",
    "\n",
    "plt.tight_layout()\n",
    "plt.show()"
   ]
  },
  {
   "cell_type": "code",
   "execution_count": null,
   "metadata": {},
   "outputs": [],
   "source": []
  }
 ],
 "metadata": {
  "kernelspec": {
   "display_name": "Python 3",
   "language": "python",
   "name": "python3"
  },
  "language_info": {
   "codemirror_mode": {
    "name": "ipython",
    "version": 3
   },
   "file_extension": ".py",
   "mimetype": "text/x-python",
   "name": "python",
   "nbconvert_exporter": "python",
   "pygments_lexer": "ipython3",
   "version": "3.11.5"
  }
 },
 "nbformat": 4,
 "nbformat_minor": 2
}
