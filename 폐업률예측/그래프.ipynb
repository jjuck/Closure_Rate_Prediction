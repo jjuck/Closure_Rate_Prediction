{
 "cells": [
  {
   "cell_type": "code",
   "execution_count": null,
   "metadata": {},
   "outputs": [],
   "source": [
    "import matplotlib.pyplot as plt\n",
    "\n",
    "data = ['__불러온_데이터__']\n",
    "\n",
    "plt.rcParams['font.family'] ='Malgun Gothic'\n",
    "plt.rcParams['axes.unicode_minus'] =False\n",
    "\n",
    "# \"주중_매출_금액\",\"주말_매출_금액\"\n",
    "# \"월요일_매출_금액\",\"화요일_매출_금액\",\"수요일_매출_금액\",\"목요일_매출_금액\",\"금요일_매출_금액\",\"토요일_매출_금액\",\"일요일_매출_금액\"\n",
    "# \"시간대_00~06_매출_금액\",\"시간대_06~11_매출_금액\",\"시간대_11~14_매출_금액\",\"시간대_14~17_매출_금액\",\"시간대_17~21_매출_금액\",\"시간대_21~24_매출_금액\"\n",
    "# \"남성_매출_금액\",\"여성_매출_금액\"\n",
    "# \"연령대_10_매출_금액\",\"연령대_20_매출_금액\",\"연령대_30_매출_금액\",\"연령대_40_매출_금액\",\"연령대_50_매출_금액\",\"연령대_60_이상_매출_금액\"\n",
    "\n",
    "# \"주중_매출_건수\",\"주말_매출_건수\"\n",
    "# \"월요일_매출_건수\",\"화요일_매출_건수\",\"수요일_매출_건수\",\"목요일_매출_건수\",\"금요일_매출_건수\",\"토요일_매출_건수\",\"일요일_매출_건수\"\n",
    "# \"시간대_건수~06_매출_건수\",\"시간대_건수~11_매출_건수\",\"시간대_건수~14_매출_건수\",\"시간대_건수~17_매출_건수\",\"시간대_건수~21_매출_건수\",\"시간대_건수~24_매출_건수\"\n",
    "# \"남성_매출_건수\",\"여성_매출_건수\"\n",
    "# \"연령대_10_매출_건수\",\"연령대_20_매출_건수\",\"연령대_30_매출_건수\",\"연령대_40_매출_건수\",\"연령대_50_매출_건수\",\"연령대_60_이상_매출_건수\""
   ]
  },
  {
   "cell_type": "code",
   "execution_count": null,
   "metadata": {},
   "outputs": [],
   "source": [
    "mean = data[[\"주중_매출_금액\",\"주말_매출_금액\"]].mean()\n",
    "\n",
    "# plt.plot(mean.index, mean, color='b', marker='o')\n",
    "plt.bar(mean.index, mean, color='b')\n",
    "plt.xlabel('주중 주말')\n",
    "plt.ylabel('평균 매출 금액')\n",
    "plt.title('주중 주말 평균 매출')\n",
    "plt.xticks(rotation=45)\n",
    "plt.show()"
   ]
  },
  {
   "cell_type": "code",
   "execution_count": null,
   "metadata": {},
   "outputs": [],
   "source": [
    "mean = data[[\"월요일_매출_금액\",\"화요일_매출_금액\",\"수요일_매출_금액\",\"목요일_매출_금액\",\"금요일_매출_금액\",\"토요일_매출_금액\",\"일요일_매출_금액\"]].mean()\n",
    "\n",
    "# plt.plot(mean.index, mean, color='b', marker='o')\n",
    "plt.bar(mean.index, mean, color='b')\n",
    "plt.xlabel('요일')\n",
    "plt.ylabel('평균 매출 금액')\n",
    "plt.title('요일 평균 매출')\n",
    "plt.xticks(rotation=45)\n",
    "plt.show()"
   ]
  },
  {
   "cell_type": "code",
   "execution_count": null,
   "metadata": {},
   "outputs": [],
   "source": [
    "mean = data[[\"시간대_00~06_매출_금액\",\"시간대_06~11_매출_금액\",\"시간대_11~14_매출_금액\",\"시간대_14~17_매출_금액\",\"시간대_17~21_매출_금액\",\"시간대_21~24_매출_금액\"]].mean()\n",
    "\n",
    "# plt.plot(mean.index, mean, color='b', marker='o')\n",
    "plt.bar(mean.index, mean, color='b')\n",
    "plt.xlabel('시간대')\n",
    "plt.ylabel('평균 매출 금액')\n",
    "plt.title('시간대별 평균 매출')\n",
    "plt.xticks(rotation=45)\n",
    "plt.show()"
   ]
  },
  {
   "cell_type": "code",
   "execution_count": null,
   "metadata": {},
   "outputs": [],
   "source": [
    "mean = data[[\"남성_매출_금액\",\"여성_매출_금액\"]].mean()\n",
    "\n",
    "# plt.plot(mean.index, mean, color='b', marker='o')\n",
    "plt.bar(mean.index, mean, color='b')\n",
    "plt.xlabel('성별')\n",
    "plt.ylabel('평균 매출 금액')\n",
    "plt.title('성별 평균 매출')\n",
    "plt.xticks(rotation=45)\n",
    "plt.show()"
   ]
  },
  {
   "cell_type": "code",
   "execution_count": null,
   "metadata": {},
   "outputs": [],
   "source": [
    "mean = data[[\"연령대_10_매출_금액\",\"연령대_20_매출_금액\",\"연령대_30_매출_금액\",\"연령대_40_매출_금액\",\"연령대_50_매출_금액\",\"연령대_60_이상_매출_금액\"]].mean()\n",
    "\n",
    "# plt.plot(mean.index, mean, color='b', marker='o')\n",
    "plt.bar(mean.index, mean, color='b')\n",
    "plt.xlabel('연령')\n",
    "plt.ylabel('평균 매출 금액')\n",
    "plt.title('연령별 평균 매출')\n",
    "plt.xticks(rotation=45)\n",
    "plt.show()"
   ]
  },
  {
   "cell_type": "code",
   "execution_count": null,
   "metadata": {},
   "outputs": [],
   "source": []
  },
  {
   "cell_type": "code",
   "execution_count": null,
   "metadata": {},
   "outputs": [],
   "source": [
    "mean = data[[\"주중_매출_건수\",\"주말_매출_건수\"]].mean()\n",
    "\n",
    "# plt.plot(mean.index, mean, color='b', marker='o')\n",
    "plt.bar(mean.index, mean, color='b')\n",
    "plt.xlabel('주중 주말')\n",
    "plt.ylabel('평균 매출 건수')\n",
    "plt.title('주중 주말 평균 건수')\n",
    "plt.xticks(rotation=45)\n",
    "plt.show()"
   ]
  },
  {
   "cell_type": "code",
   "execution_count": null,
   "metadata": {},
   "outputs": [],
   "source": [
    "mean = data[[\"월요일_매출_건수\",\"화요일_매출_건수\",\"수요일_매출_건수\",\"목요일_매출_건수\",\"금요일_매출_건수\",\"토요일_매출_건수\",\"일요일_매출_건수\"]].mean()\n",
    "\n",
    "# plt.plot(mean.index, mean, color='b', marker='o')\n",
    "plt.bar(mean.index, mean, color='b')\n",
    "plt.xlabel('요일')\n",
    "plt.ylabel('평균 매출 건수')\n",
    "plt.title('요일 평균 건수')\n",
    "plt.xticks(rotation=45)\n",
    "plt.show()"
   ]
  },
  {
   "cell_type": "code",
   "execution_count": null,
   "metadata": {},
   "outputs": [],
   "source": [
    "mean = data[[\"시간대_건수~06_매출_건수\",\"시간대_건수~11_매출_건수\",\"시간대_건수~14_매출_건수\",\"시간대_건수~17_매출_건수\",\"시간대_건수~21_매출_건수\",\"시간대_건수~24_매출_건수\"]].mean()\n",
    "\n",
    "# plt.plot(mean.index, mean, color='b', marker='o')\n",
    "plt.bar(mean.index, mean, color='b')\n",
    "plt.xlabel('시간대')\n",
    "plt.ylabel('평균 매출 건수')\n",
    "plt.title('시간대별 평균 건수')\n",
    "plt.xticks(rotation=45)\n",
    "plt.show()"
   ]
  },
  {
   "cell_type": "code",
   "execution_count": null,
   "metadata": {},
   "outputs": [],
   "source": [
    "mean = data[[\"남성_매출_건수\",\"여성_매출_건수\"]].mean()\n",
    "\n",
    "# plt.plot(mean.index, mean, color='b', marker='o')\n",
    "plt.bar(mean.index, mean, color='b')\n",
    "plt.xlabel('성별')\n",
    "plt.ylabel('평균 매출 건수')\n",
    "plt.title('성별 평균 건수')\n",
    "plt.xticks(rotation=45)\n",
    "plt.show()"
   ]
  },
  {
   "cell_type": "code",
   "execution_count": null,
   "metadata": {},
   "outputs": [],
   "source": [
    "mean = data[[\"연령대_10_매출_건수\",\"연령대_20_매출_건수\",\"연령대_30_매출_건수\",\"연령대_40_매출_건수\",\"연령대_50_매출_건수\",\"연령대_60_이상_매출_건수\"]].mean()\n",
    "\n",
    "# plt.plot(mean.index, mean, color='b', marker='o')\n",
    "plt.bar(mean.index, mean, color='b')\n",
    "plt.xlabel('연령')\n",
    "plt.ylabel('평균 매출 건수')\n",
    "plt.title('연령별 평균 건수')\n",
    "plt.xticks(rotation=45)\n",
    "plt.show()"
   ]
  },
  {
   "cell_type": "markdown",
   "metadata": {},
   "source": [
    "---"
   ]
  },
  {
   "cell_type": "code",
   "execution_count": null,
   "metadata": {},
   "outputs": [],
   "source": [
    "for j in (b := data['상권_구분_코드_명'].unique()):\n",
    "    l = []\n",
    "    for i in (a := data['서비스_업종_코드_명'].unique()):\n",
    "        l.append(data[(data['서비스_업종_코드_명'] == i) & (data['상권_구분_코드_명'] == j)]['당월_매출_금액'].mean())\n",
    "    \n",
    "    print(max(l))\n",
    "    plt.figure(figsize=(15, 5))\n",
    "    plt.title(f'{j}')\n",
    "    plt.bar(a, l)\n",
    "    plt.xlabel('상권구분')\n",
    "    plt.ylabel('당월매출금액평균')\n",
    "    plt.xticks(rotation=90)\n",
    "    plt.tight_layout()\n",
    "\n",
    "plt.show()"
   ]
  },
  {
   "cell_type": "markdown",
   "metadata": {},
   "source": [
    "---"
   ]
  },
  {
   "cell_type": "code",
   "execution_count": null,
   "metadata": {},
   "outputs": [],
   "source": [
    "l = []\n",
    "for i in (u := data['상권_구분_코드_명'].unique()):\n",
    "    l.append(data[data['상권_구분_코드_명'] == i]['당월_매출_금액'].mean())\n",
    "\n",
    "print(*zip(u, l))\n",
    "\n",
    "plt.plot(u, l)\n",
    "# plt.bar(u, l)\n",
    "plt.xlabel('상권구분')\n",
    "plt.ylabel('당월매출금액평균')\n",
    "plt.show()"
   ]
  }
 ],
 "metadata": {
  "language_info": {
   "name": "python"
  }
 },
 "nbformat": 4,
 "nbformat_minor": 2
}
